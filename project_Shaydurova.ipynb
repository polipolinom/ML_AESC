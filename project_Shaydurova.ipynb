{
  "nbformat": 4,
  "nbformat_minor": 0,
  "metadata": {
    "colab": {
      "name": "project_Shaydurova.ipynb",
      "provenance": [],
      "collapsed_sections": [],
      "toc_visible": true
    },
    "kernelspec": {
      "name": "python3",
      "display_name": "Python 3"
    }
  },
  "cells": [
    {
      "cell_type": "markdown",
      "metadata": {
        "id": "ya4jdgQst61u"
      },
      "source": [
        "# Определение популярности песни по некоторым ее характеристикам\r\n",
        "\r\n",
        "Данные \"data.csv\" &mdash; - это таблица из более, чем 170.000 песен, собранных с помощью Spotify WEB API.\r\n",
        "\r\n",
        "Расшифровка столбцов в \"data.csv\" для справки:\r\n",
        "- acousticness &mdash; акустичность трека (по некоторой условной шкале от 0 до 1)\r\n",
        "- artists &mdash; исполнитель\r\n",
        "- danceability &mdash; танцевальность трека (по некоторой условной шкале от 0 до 1)\r\n",
        "- duration_ms &mdash; длительность в миллисекундах\r\n",
        "- energy &mdash; энергия трека (по некоторой условной шкале от 0 до 1) \r\n",
        "- explicit &mdash; содержание в треке нецензурной лексики (0 - нет нецензурной лексики, 1 - есть нецензурная лексика) \r\n",
        "- id &mdash; индивидуальный номер трека, сгенирированный Spotify\r\n",
        "- instrumentalness &mdash; инструментальность трека (по некоторой условной шкале от 0 до 1)\r\n",
        "- key &mdash; первая нота трека (С - 0, С# - 1 и так далее, H - 11)\r\n",
        "- liveness &mdash; звучность живого исполнения трека (по некоторой условной шкале от 0 до 1)\r\n",
        "- loudness &mdash; громкость трека в децибелах (в диапазоне от -60 о 0)\r\n",
        "- mode &mdash; начинается ли трек с основной аккордовой последовательности (0 - не начинается, 1 - начинается)\r\n",
        "- name &mdash; название трека\r\n",
        "- popularity &mdash; популярность трека в США (по некоторой условной шкале от 0 до 100)\r\n",
        "- release_date &mdash; дата выпуска трека (в формате yyyy-mm-dd или yyyy)\r\n",
        "- speechiness\t&mdash; содержание человеческого голоса (по некоторой условной шкале от 0 до 1)\r\n",
        "- tempo &mdash; темп трека в BMP (от 0 до 250)\r\n",
        "- valence &mdash; позитивность трека (по некоторой условной шкале от 0 до 1)\r\n",
        "- year &mdash; год выпуска трека (от 1920 до 2021)"
      ]
    },
    {
      "cell_type": "markdown",
      "metadata": {
        "id": "R6504Isiy-CU"
      },
      "source": [
        "### 1. Загрузка данных"
      ]
    },
    {
      "cell_type": "code",
      "metadata": {
        "colab": {
          "resources": {
            "http://localhost:8080/nbextensions/google.colab/files.js": {
              "data": "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",
              "ok": true,
              "headers": [
                [
                  "content-type",
                  "application/javascript"
                ]
              ],
              "status": 200,
              "status_text": ""
            }
          },
          "base_uri": "https://localhost:8080/",
          "height": 72
        },
        "id": "2e4fSilNy1qJ",
        "outputId": "09244eed-6115-41eb-8915-f6fd1705d239"
      },
      "source": [
        "from google.colab import files\r\n",
        "uploaded = files.upload()"
      ],
      "execution_count": null,
      "outputs": [
        {
          "output_type": "display_data",
          "data": {
            "text/html": [
              "\n",
              "     <input type=\"file\" id=\"files-1633425e-d736-46da-9859-3721f078dede\" name=\"files[]\" multiple disabled\n",
              "        style=\"border:none\" />\n",
              "     <output id=\"result-1633425e-d736-46da-9859-3721f078dede\">\n",
              "      Upload widget is only available when the cell has been executed in the\n",
              "      current browser session. Please rerun this cell to enable.\n",
              "      </output>\n",
              "      <script src=\"/nbextensions/google.colab/files.js\"></script> "
            ],
            "text/plain": [
              "<IPython.core.display.HTML object>"
            ]
          },
          "metadata": {
            "tags": []
          }
        },
        {
          "output_type": "stream",
          "text": [
            "Saving data.csv to data.csv\n"
          ],
          "name": "stdout"
        }
      ]
    },
    {
      "cell_type": "code",
      "metadata": {
        "colab": {
          "base_uri": "https://localhost:8080/",
          "height": 668
        },
        "id": "utNIZWY709zm",
        "outputId": "6bb3f315-b786-4c99-e76a-1b3fd99e05e7"
      },
      "source": [
        "import pandas as pd\r\n",
        "import numpy as np\r\n",
        "\r\n",
        "data = pd.read_csv('data.csv')\r\n",
        "data[0:10]"
      ],
      "execution_count": null,
      "outputs": [
        {
          "output_type": "execute_result",
          "data": {
            "text/html": [
              "<div>\n",
              "<style scoped>\n",
              "    .dataframe tbody tr th:only-of-type {\n",
              "        vertical-align: middle;\n",
              "    }\n",
              "\n",
              "    .dataframe tbody tr th {\n",
              "        vertical-align: top;\n",
              "    }\n",
              "\n",
              "    .dataframe thead th {\n",
              "        text-align: right;\n",
              "    }\n",
              "</style>\n",
              "<table border=\"1\" class=\"dataframe\">\n",
              "  <thead>\n",
              "    <tr style=\"text-align: right;\">\n",
              "      <th></th>\n",
              "      <th>acousticness</th>\n",
              "      <th>artists</th>\n",
              "      <th>danceability</th>\n",
              "      <th>duration_ms</th>\n",
              "      <th>energy</th>\n",
              "      <th>explicit</th>\n",
              "      <th>id</th>\n",
              "      <th>instrumentalness</th>\n",
              "      <th>key</th>\n",
              "      <th>liveness</th>\n",
              "      <th>loudness</th>\n",
              "      <th>mode</th>\n",
              "      <th>name</th>\n",
              "      <th>popularity</th>\n",
              "      <th>release_date</th>\n",
              "      <th>speechiness</th>\n",
              "      <th>tempo</th>\n",
              "      <th>valence</th>\n",
              "      <th>year</th>\n",
              "    </tr>\n",
              "  </thead>\n",
              "  <tbody>\n",
              "    <tr>\n",
              "      <th>0</th>\n",
              "      <td>0.991000</td>\n",
              "      <td>['Mamie Smith']</td>\n",
              "      <td>0.598</td>\n",
              "      <td>168333</td>\n",
              "      <td>0.2240</td>\n",
              "      <td>0</td>\n",
              "      <td>0cS0A1fUEUd1EW3FcF8AEI</td>\n",
              "      <td>0.000522</td>\n",
              "      <td>5</td>\n",
              "      <td>0.3790</td>\n",
              "      <td>-12.628</td>\n",
              "      <td>0</td>\n",
              "      <td>Keep A Song In Your Soul</td>\n",
              "      <td>12</td>\n",
              "      <td>1920</td>\n",
              "      <td>0.0936</td>\n",
              "      <td>149.976</td>\n",
              "      <td>0.6340</td>\n",
              "      <td>1920</td>\n",
              "    </tr>\n",
              "    <tr>\n",
              "      <th>1</th>\n",
              "      <td>0.643000</td>\n",
              "      <td>[\"Screamin' Jay Hawkins\"]</td>\n",
              "      <td>0.852</td>\n",
              "      <td>150200</td>\n",
              "      <td>0.5170</td>\n",
              "      <td>0</td>\n",
              "      <td>0hbkKFIJm7Z05H8Zl9w30f</td>\n",
              "      <td>0.026400</td>\n",
              "      <td>5</td>\n",
              "      <td>0.0809</td>\n",
              "      <td>-7.261</td>\n",
              "      <td>0</td>\n",
              "      <td>I Put A Spell On You</td>\n",
              "      <td>7</td>\n",
              "      <td>1920-01-05</td>\n",
              "      <td>0.0534</td>\n",
              "      <td>86.889</td>\n",
              "      <td>0.9500</td>\n",
              "      <td>1920</td>\n",
              "    </tr>\n",
              "    <tr>\n",
              "      <th>2</th>\n",
              "      <td>0.993000</td>\n",
              "      <td>['Mamie Smith']</td>\n",
              "      <td>0.647</td>\n",
              "      <td>163827</td>\n",
              "      <td>0.1860</td>\n",
              "      <td>0</td>\n",
              "      <td>11m7laMUgmOKqI3oYzuhne</td>\n",
              "      <td>0.000018</td>\n",
              "      <td>0</td>\n",
              "      <td>0.5190</td>\n",
              "      <td>-12.098</td>\n",
              "      <td>1</td>\n",
              "      <td>Golfing Papa</td>\n",
              "      <td>4</td>\n",
              "      <td>1920</td>\n",
              "      <td>0.1740</td>\n",
              "      <td>97.600</td>\n",
              "      <td>0.6890</td>\n",
              "      <td>1920</td>\n",
              "    </tr>\n",
              "    <tr>\n",
              "      <th>3</th>\n",
              "      <td>0.000173</td>\n",
              "      <td>['Oscar Velazquez']</td>\n",
              "      <td>0.730</td>\n",
              "      <td>422087</td>\n",
              "      <td>0.7980</td>\n",
              "      <td>0</td>\n",
              "      <td>19Lc5SfJJ5O1oaxY0fpwfh</td>\n",
              "      <td>0.801000</td>\n",
              "      <td>2</td>\n",
              "      <td>0.1280</td>\n",
              "      <td>-7.311</td>\n",
              "      <td>1</td>\n",
              "      <td>True House Music - Xavier Santos &amp; Carlos Gomi...</td>\n",
              "      <td>17</td>\n",
              "      <td>1920-01-01</td>\n",
              "      <td>0.0425</td>\n",
              "      <td>127.997</td>\n",
              "      <td>0.0422</td>\n",
              "      <td>1920</td>\n",
              "    </tr>\n",
              "    <tr>\n",
              "      <th>4</th>\n",
              "      <td>0.295000</td>\n",
              "      <td>['Mixe']</td>\n",
              "      <td>0.704</td>\n",
              "      <td>165224</td>\n",
              "      <td>0.7070</td>\n",
              "      <td>1</td>\n",
              "      <td>2hJjbsLCytGsnAHfdsLejp</td>\n",
              "      <td>0.000246</td>\n",
              "      <td>10</td>\n",
              "      <td>0.4020</td>\n",
              "      <td>-6.036</td>\n",
              "      <td>0</td>\n",
              "      <td>Xuniverxe</td>\n",
              "      <td>2</td>\n",
              "      <td>1920-10-01</td>\n",
              "      <td>0.0768</td>\n",
              "      <td>122.076</td>\n",
              "      <td>0.2990</td>\n",
              "      <td>1920</td>\n",
              "    </tr>\n",
              "    <tr>\n",
              "      <th>5</th>\n",
              "      <td>0.996000</td>\n",
              "      <td>['Mamie Smith &amp; Her Jazz Hounds']</td>\n",
              "      <td>0.424</td>\n",
              "      <td>198627</td>\n",
              "      <td>0.2450</td>\n",
              "      <td>0</td>\n",
              "      <td>3HnrHGLE9u2MjHtdobfWl9</td>\n",
              "      <td>0.799000</td>\n",
              "      <td>5</td>\n",
              "      <td>0.2350</td>\n",
              "      <td>-11.470</td>\n",
              "      <td>1</td>\n",
              "      <td>Crazy Blues - 78rpm Version</td>\n",
              "      <td>9</td>\n",
              "      <td>1920</td>\n",
              "      <td>0.0397</td>\n",
              "      <td>103.870</td>\n",
              "      <td>0.4770</td>\n",
              "      <td>1920</td>\n",
              "    </tr>\n",
              "    <tr>\n",
              "      <th>6</th>\n",
              "      <td>0.992000</td>\n",
              "      <td>['Mamie Smith']</td>\n",
              "      <td>0.782</td>\n",
              "      <td>195200</td>\n",
              "      <td>0.0573</td>\n",
              "      <td>0</td>\n",
              "      <td>5DlCyqLyX2AOVDTjjkDZ8x</td>\n",
              "      <td>0.000002</td>\n",
              "      <td>5</td>\n",
              "      <td>0.1760</td>\n",
              "      <td>-12.453</td>\n",
              "      <td>1</td>\n",
              "      <td>Don't You Advertise Your Man</td>\n",
              "      <td>5</td>\n",
              "      <td>1920</td>\n",
              "      <td>0.0592</td>\n",
              "      <td>85.652</td>\n",
              "      <td>0.4870</td>\n",
              "      <td>1920</td>\n",
              "    </tr>\n",
              "    <tr>\n",
              "      <th>7</th>\n",
              "      <td>0.996000</td>\n",
              "      <td>['Mamie Smith &amp; Her Jazz Hounds']</td>\n",
              "      <td>0.474</td>\n",
              "      <td>186173</td>\n",
              "      <td>0.2390</td>\n",
              "      <td>0</td>\n",
              "      <td>02FzJbHtqElixxCmrpSCUa</td>\n",
              "      <td>0.186000</td>\n",
              "      <td>9</td>\n",
              "      <td>0.1950</td>\n",
              "      <td>-9.712</td>\n",
              "      <td>1</td>\n",
              "      <td>Arkansas Blues</td>\n",
              "      <td>0</td>\n",
              "      <td>1920</td>\n",
              "      <td>0.0289</td>\n",
              "      <td>78.784</td>\n",
              "      <td>0.3660</td>\n",
              "      <td>1920</td>\n",
              "    </tr>\n",
              "    <tr>\n",
              "      <th>8</th>\n",
              "      <td>0.996000</td>\n",
              "      <td>['Francisco Canaro']</td>\n",
              "      <td>0.469</td>\n",
              "      <td>146840</td>\n",
              "      <td>0.2380</td>\n",
              "      <td>0</td>\n",
              "      <td>02i59gYdjlhBmbbWhf8YuK</td>\n",
              "      <td>0.960000</td>\n",
              "      <td>8</td>\n",
              "      <td>0.1490</td>\n",
              "      <td>-18.717</td>\n",
              "      <td>1</td>\n",
              "      <td>La Chacarera - Remasterizado</td>\n",
              "      <td>0</td>\n",
              "      <td>1920-07-08</td>\n",
              "      <td>0.0741</td>\n",
              "      <td>130.060</td>\n",
              "      <td>0.6210</td>\n",
              "      <td>1920</td>\n",
              "    </tr>\n",
              "    <tr>\n",
              "      <th>9</th>\n",
              "      <td>0.006820</td>\n",
              "      <td>['Meetya']</td>\n",
              "      <td>0.571</td>\n",
              "      <td>476304</td>\n",
              "      <td>0.7530</td>\n",
              "      <td>0</td>\n",
              "      <td>06NUxS2XL3efRh0bloxkHm</td>\n",
              "      <td>0.873000</td>\n",
              "      <td>8</td>\n",
              "      <td>0.0920</td>\n",
              "      <td>-6.943</td>\n",
              "      <td>1</td>\n",
              "      <td>Broken Puppet - Original Mix</td>\n",
              "      <td>0</td>\n",
              "      <td>1920-01-01</td>\n",
              "      <td>0.0446</td>\n",
              "      <td>126.993</td>\n",
              "      <td>0.1190</td>\n",
              "      <td>1920</td>\n",
              "    </tr>\n",
              "  </tbody>\n",
              "</table>\n",
              "</div>"
            ],
            "text/plain": [
              "   acousticness                            artists  ...  valence  year\n",
              "0      0.991000                    ['Mamie Smith']  ...   0.6340  1920\n",
              "1      0.643000          [\"Screamin' Jay Hawkins\"]  ...   0.9500  1920\n",
              "2      0.993000                    ['Mamie Smith']  ...   0.6890  1920\n",
              "3      0.000173                ['Oscar Velazquez']  ...   0.0422  1920\n",
              "4      0.295000                           ['Mixe']  ...   0.2990  1920\n",
              "5      0.996000  ['Mamie Smith & Her Jazz Hounds']  ...   0.4770  1920\n",
              "6      0.992000                    ['Mamie Smith']  ...   0.4870  1920\n",
              "7      0.996000  ['Mamie Smith & Her Jazz Hounds']  ...   0.3660  1920\n",
              "8      0.996000               ['Francisco Canaro']  ...   0.6210  1920\n",
              "9      0.006820                         ['Meetya']  ...   0.1190  1920\n",
              "\n",
              "[10 rows x 19 columns]"
            ]
          },
          "metadata": {
            "tags": []
          },
          "execution_count": 90
        }
      ]
    },
    {
      "cell_type": "markdown",
      "metadata": {
        "id": "6F03IghI-JDM"
      },
      "source": [
        "### 2. Удаление ненужных данных"
      ]
    },
    {
      "cell_type": "markdown",
      "metadata": {
        "id": "NPPHrYGy-SE3"
      },
      "source": [
        "Заметим, что столбец *id* нам не нужен, так как это просто рандомно сгенерированное уникальное имя трека. Удалим также столбцы *name* и *artists*, так как это не числовые функции от трека. Удалим также столбец *release_date*, так как не у всех треков есть точная дата, но у всех есть определнный год выпуска, который указан в другом столбце.\r\n",
        " "
      ]
    },
    {
      "cell_type": "code",
      "metadata": {
        "colab": {
          "base_uri": "https://localhost:8080/",
          "height": 359
        },
        "id": "iGKlXM3z-P9s",
        "outputId": "fbf345e6-8c07-4134-c1c9-cf5c9f1061bb"
      },
      "source": [
        "data = data.drop(data.columns[[1, 6, 12, 14]], axis=1)\r\n",
        "data = data.iloc[:, [0, 1, 2, 3, 4, 5, 6, 7, 8, 9, 14, 11, 12, 13, 10]]\r\n",
        "data[0:10]"
      ],
      "execution_count": null,
      "outputs": [
        {
          "output_type": "execute_result",
          "data": {
            "text/html": [
              "<div>\n",
              "<style scoped>\n",
              "    .dataframe tbody tr th:only-of-type {\n",
              "        vertical-align: middle;\n",
              "    }\n",
              "\n",
              "    .dataframe tbody tr th {\n",
              "        vertical-align: top;\n",
              "    }\n",
              "\n",
              "    .dataframe thead th {\n",
              "        text-align: right;\n",
              "    }\n",
              "</style>\n",
              "<table border=\"1\" class=\"dataframe\">\n",
              "  <thead>\n",
              "    <tr style=\"text-align: right;\">\n",
              "      <th></th>\n",
              "      <th>acousticness</th>\n",
              "      <th>danceability</th>\n",
              "      <th>duration_ms</th>\n",
              "      <th>energy</th>\n",
              "      <th>explicit</th>\n",
              "      <th>instrumentalness</th>\n",
              "      <th>key</th>\n",
              "      <th>liveness</th>\n",
              "      <th>loudness</th>\n",
              "      <th>mode</th>\n",
              "      <th>year</th>\n",
              "      <th>speechiness</th>\n",
              "      <th>tempo</th>\n",
              "      <th>valence</th>\n",
              "      <th>popularity</th>\n",
              "    </tr>\n",
              "  </thead>\n",
              "  <tbody>\n",
              "    <tr>\n",
              "      <th>0</th>\n",
              "      <td>0.991000</td>\n",
              "      <td>0.598</td>\n",
              "      <td>168333</td>\n",
              "      <td>0.2240</td>\n",
              "      <td>0</td>\n",
              "      <td>0.000522</td>\n",
              "      <td>5</td>\n",
              "      <td>0.3790</td>\n",
              "      <td>-12.628</td>\n",
              "      <td>0</td>\n",
              "      <td>1920</td>\n",
              "      <td>0.0936</td>\n",
              "      <td>149.976</td>\n",
              "      <td>0.6340</td>\n",
              "      <td>12</td>\n",
              "    </tr>\n",
              "    <tr>\n",
              "      <th>1</th>\n",
              "      <td>0.643000</td>\n",
              "      <td>0.852</td>\n",
              "      <td>150200</td>\n",
              "      <td>0.5170</td>\n",
              "      <td>0</td>\n",
              "      <td>0.026400</td>\n",
              "      <td>5</td>\n",
              "      <td>0.0809</td>\n",
              "      <td>-7.261</td>\n",
              "      <td>0</td>\n",
              "      <td>1920</td>\n",
              "      <td>0.0534</td>\n",
              "      <td>86.889</td>\n",
              "      <td>0.9500</td>\n",
              "      <td>7</td>\n",
              "    </tr>\n",
              "    <tr>\n",
              "      <th>2</th>\n",
              "      <td>0.993000</td>\n",
              "      <td>0.647</td>\n",
              "      <td>163827</td>\n",
              "      <td>0.1860</td>\n",
              "      <td>0</td>\n",
              "      <td>0.000018</td>\n",
              "      <td>0</td>\n",
              "      <td>0.5190</td>\n",
              "      <td>-12.098</td>\n",
              "      <td>1</td>\n",
              "      <td>1920</td>\n",
              "      <td>0.1740</td>\n",
              "      <td>97.600</td>\n",
              "      <td>0.6890</td>\n",
              "      <td>4</td>\n",
              "    </tr>\n",
              "    <tr>\n",
              "      <th>3</th>\n",
              "      <td>0.000173</td>\n",
              "      <td>0.730</td>\n",
              "      <td>422087</td>\n",
              "      <td>0.7980</td>\n",
              "      <td>0</td>\n",
              "      <td>0.801000</td>\n",
              "      <td>2</td>\n",
              "      <td>0.1280</td>\n",
              "      <td>-7.311</td>\n",
              "      <td>1</td>\n",
              "      <td>1920</td>\n",
              "      <td>0.0425</td>\n",
              "      <td>127.997</td>\n",
              "      <td>0.0422</td>\n",
              "      <td>17</td>\n",
              "    </tr>\n",
              "    <tr>\n",
              "      <th>4</th>\n",
              "      <td>0.295000</td>\n",
              "      <td>0.704</td>\n",
              "      <td>165224</td>\n",
              "      <td>0.7070</td>\n",
              "      <td>1</td>\n",
              "      <td>0.000246</td>\n",
              "      <td>10</td>\n",
              "      <td>0.4020</td>\n",
              "      <td>-6.036</td>\n",
              "      <td>0</td>\n",
              "      <td>1920</td>\n",
              "      <td>0.0768</td>\n",
              "      <td>122.076</td>\n",
              "      <td>0.2990</td>\n",
              "      <td>2</td>\n",
              "    </tr>\n",
              "    <tr>\n",
              "      <th>5</th>\n",
              "      <td>0.996000</td>\n",
              "      <td>0.424</td>\n",
              "      <td>198627</td>\n",
              "      <td>0.2450</td>\n",
              "      <td>0</td>\n",
              "      <td>0.799000</td>\n",
              "      <td>5</td>\n",
              "      <td>0.2350</td>\n",
              "      <td>-11.470</td>\n",
              "      <td>1</td>\n",
              "      <td>1920</td>\n",
              "      <td>0.0397</td>\n",
              "      <td>103.870</td>\n",
              "      <td>0.4770</td>\n",
              "      <td>9</td>\n",
              "    </tr>\n",
              "    <tr>\n",
              "      <th>6</th>\n",
              "      <td>0.992000</td>\n",
              "      <td>0.782</td>\n",
              "      <td>195200</td>\n",
              "      <td>0.0573</td>\n",
              "      <td>0</td>\n",
              "      <td>0.000002</td>\n",
              "      <td>5</td>\n",
              "      <td>0.1760</td>\n",
              "      <td>-12.453</td>\n",
              "      <td>1</td>\n",
              "      <td>1920</td>\n",
              "      <td>0.0592</td>\n",
              "      <td>85.652</td>\n",
              "      <td>0.4870</td>\n",
              "      <td>5</td>\n",
              "    </tr>\n",
              "    <tr>\n",
              "      <th>7</th>\n",
              "      <td>0.996000</td>\n",
              "      <td>0.474</td>\n",
              "      <td>186173</td>\n",
              "      <td>0.2390</td>\n",
              "      <td>0</td>\n",
              "      <td>0.186000</td>\n",
              "      <td>9</td>\n",
              "      <td>0.1950</td>\n",
              "      <td>-9.712</td>\n",
              "      <td>1</td>\n",
              "      <td>1920</td>\n",
              "      <td>0.0289</td>\n",
              "      <td>78.784</td>\n",
              "      <td>0.3660</td>\n",
              "      <td>0</td>\n",
              "    </tr>\n",
              "    <tr>\n",
              "      <th>8</th>\n",
              "      <td>0.996000</td>\n",
              "      <td>0.469</td>\n",
              "      <td>146840</td>\n",
              "      <td>0.2380</td>\n",
              "      <td>0</td>\n",
              "      <td>0.960000</td>\n",
              "      <td>8</td>\n",
              "      <td>0.1490</td>\n",
              "      <td>-18.717</td>\n",
              "      <td>1</td>\n",
              "      <td>1920</td>\n",
              "      <td>0.0741</td>\n",
              "      <td>130.060</td>\n",
              "      <td>0.6210</td>\n",
              "      <td>0</td>\n",
              "    </tr>\n",
              "    <tr>\n",
              "      <th>9</th>\n",
              "      <td>0.006820</td>\n",
              "      <td>0.571</td>\n",
              "      <td>476304</td>\n",
              "      <td>0.7530</td>\n",
              "      <td>0</td>\n",
              "      <td>0.873000</td>\n",
              "      <td>8</td>\n",
              "      <td>0.0920</td>\n",
              "      <td>-6.943</td>\n",
              "      <td>1</td>\n",
              "      <td>1920</td>\n",
              "      <td>0.0446</td>\n",
              "      <td>126.993</td>\n",
              "      <td>0.1190</td>\n",
              "      <td>0</td>\n",
              "    </tr>\n",
              "  </tbody>\n",
              "</table>\n",
              "</div>"
            ],
            "text/plain": [
              "   acousticness  danceability  duration_ms  ...    tempo  valence  popularity\n",
              "0      0.991000         0.598       168333  ...  149.976   0.6340          12\n",
              "1      0.643000         0.852       150200  ...   86.889   0.9500           7\n",
              "2      0.993000         0.647       163827  ...   97.600   0.6890           4\n",
              "3      0.000173         0.730       422087  ...  127.997   0.0422          17\n",
              "4      0.295000         0.704       165224  ...  122.076   0.2990           2\n",
              "5      0.996000         0.424       198627  ...  103.870   0.4770           9\n",
              "6      0.992000         0.782       195200  ...   85.652   0.4870           5\n",
              "7      0.996000         0.474       186173  ...   78.784   0.3660           0\n",
              "8      0.996000         0.469       146840  ...  130.060   0.6210           0\n",
              "9      0.006820         0.571       476304  ...  126.993   0.1190           0\n",
              "\n",
              "[10 rows x 15 columns]"
            ]
          },
          "metadata": {
            "tags": []
          },
          "execution_count": 91
        }
      ]
    },
    {
      "cell_type": "markdown",
      "metadata": {
        "id": "2n6wdlC4BIoh"
      },
      "source": [
        "### 3. Пропуски в данных"
      ]
    },
    {
      "cell_type": "markdown",
      "metadata": {
        "id": "DsfWkoJyBP5u"
      },
      "source": [
        "Проверим, есть ли пропуски в данных. Если есть, то заменим на среднее значение по столбцу"
      ]
    },
    {
      "cell_type": "code",
      "metadata": {
        "colab": {
          "base_uri": "https://localhost:8080/"
        },
        "id": "dw7UL33OBUTg",
        "outputId": "9e5c9b56-7f07-41d2-e7c6-c41b2afc3027"
      },
      "source": [
        "data.isna().sum()"
      ],
      "execution_count": null,
      "outputs": [
        {
          "output_type": "execute_result",
          "data": {
            "text/plain": [
              "acousticness        0\n",
              "danceability        0\n",
              "duration_ms         0\n",
              "energy              0\n",
              "explicit            0\n",
              "instrumentalness    0\n",
              "key                 0\n",
              "liveness            0\n",
              "loudness            0\n",
              "mode                0\n",
              "year                0\n",
              "speechiness         0\n",
              "tempo               0\n",
              "valence             0\n",
              "popularity          0\n",
              "dtype: int64"
            ]
          },
          "metadata": {
            "tags": []
          },
          "execution_count": 92
        }
      ]
    },
    {
      "cell_type": "markdown",
      "metadata": {
        "id": "MoTV32wLNUuF"
      },
      "source": [
        "### 4. Визуализация данных"
      ]
    },
    {
      "cell_type": "code",
      "metadata": {
        "colab": {
          "base_uri": "https://localhost:8080/",
          "height": 879
        },
        "id": "uVJuqbB1NciU",
        "outputId": "4d62e757-406f-4a92-aabd-ac42e307ff7a"
      },
      "source": [
        "import matplotlib.pyplot as plt\r\n",
        "\r\n",
        "data.hist(figsize=(15, 15), color='black')\r\n",
        "plt.show()"
      ],
      "execution_count": null,
      "outputs": [
        {
          "output_type": "display_data",
          "data": {
            "image/png": "[encoded data removed]",
            "text/plain": [
              "<Figure size 1080x1080 with 16 Axes>"
            ]
          },
          "metadata": {
            "tags": [],
            "needs_background": "light"
          }
        }
      ]
    },
    {
      "cell_type": "markdown",
      "metadata": {
        "id": "4Y6HPQ7NQg_9"
      },
      "source": [
        "### 5. Нормализация данных"
      ]
    },
    {
      "cell_type": "code",
      "metadata": {
        "colab": {
          "base_uri": "https://localhost:8080/",
          "height": 359
        },
        "id": "5vzC2qkhQhOq",
        "outputId": "4487a5da-eecf-4420-e648-df7ff3a64845"
      },
      "source": [
        "data.iloc[:, 8] += 65.0\r\n",
        "\r\n",
        "for i in range(0, len(data.columns) - 1):\r\n",
        "  mx = np.nanmax(data.iloc[:, i].values)\r\n",
        "  data.iloc[:, i] /= mx\r\n",
        "\r\n",
        "data[0:10]"
      ],
      "execution_count": null,
      "outputs": [
        {
          "output_type": "execute_result",
          "data": {
            "text/html": [
              "<div>\n",
              "<style scoped>\n",
              "    .dataframe tbody tr th:only-of-type {\n",
              "        vertical-align: middle;\n",
              "    }\n",
              "\n",
              "    .dataframe tbody tr th {\n",
              "        vertical-align: top;\n",
              "    }\n",
              "\n",
              "    .dataframe thead th {\n",
              "        text-align: right;\n",
              "    }\n",
              "</style>\n",
              "<table border=\"1\" class=\"dataframe\">\n",
              "  <thead>\n",
              "    <tr style=\"text-align: right;\">\n",
              "      <th></th>\n",
              "      <th>acousticness</th>\n",
              "      <th>danceability</th>\n",
              "      <th>duration_ms</th>\n",
              "      <th>energy</th>\n",
              "      <th>explicit</th>\n",
              "      <th>instrumentalness</th>\n",
              "      <th>key</th>\n",
              "      <th>liveness</th>\n",
              "      <th>loudness</th>\n",
              "      <th>mode</th>\n",
              "      <th>year</th>\n",
              "      <th>speechiness</th>\n",
              "      <th>tempo</th>\n",
              "      <th>valence</th>\n",
              "      <th>popularity</th>\n",
              "    </tr>\n",
              "  </thead>\n",
              "  <tbody>\n",
              "    <tr>\n",
              "      <th>0</th>\n",
              "      <td>0.994980</td>\n",
              "      <td>0.605263</td>\n",
              "      <td>0.031533</td>\n",
              "      <td>0.2240</td>\n",
              "      <td>0.0</td>\n",
              "      <td>0.000522</td>\n",
              "      <td>0.454545</td>\n",
              "      <td>0.3790</td>\n",
              "      <td>0.760613</td>\n",
              "      <td>0.0</td>\n",
              "      <td>0.950025</td>\n",
              "      <td>0.096395</td>\n",
              "      <td>0.615900</td>\n",
              "      <td>0.6340</td>\n",
              "      <td>12</td>\n",
              "    </tr>\n",
              "    <tr>\n",
              "      <th>1</th>\n",
              "      <td>0.645582</td>\n",
              "      <td>0.862348</td>\n",
              "      <td>0.028136</td>\n",
              "      <td>0.5170</td>\n",
              "      <td>0.0</td>\n",
              "      <td>0.026400</td>\n",
              "      <td>0.454545</td>\n",
              "      <td>0.0809</td>\n",
              "      <td>0.838559</td>\n",
              "      <td>0.0</td>\n",
              "      <td>0.950025</td>\n",
              "      <td>0.054995</td>\n",
              "      <td>0.356823</td>\n",
              "      <td>0.9500</td>\n",
              "      <td>7</td>\n",
              "    </tr>\n",
              "    <tr>\n",
              "      <th>2</th>\n",
              "      <td>0.996988</td>\n",
              "      <td>0.654858</td>\n",
              "      <td>0.030689</td>\n",
              "      <td>0.1860</td>\n",
              "      <td>0.0</td>\n",
              "      <td>0.000018</td>\n",
              "      <td>0.000000</td>\n",
              "      <td>0.5190</td>\n",
              "      <td>0.768310</td>\n",
              "      <td>1.0</td>\n",
              "      <td>0.950025</td>\n",
              "      <td>0.179197</td>\n",
              "      <td>0.400810</td>\n",
              "      <td>0.6890</td>\n",
              "      <td>4</td>\n",
              "    </tr>\n",
              "    <tr>\n",
              "      <th>3</th>\n",
              "      <td>0.000174</td>\n",
              "      <td>0.738866</td>\n",
              "      <td>0.079068</td>\n",
              "      <td>0.7980</td>\n",
              "      <td>0.0</td>\n",
              "      <td>0.801000</td>\n",
              "      <td>0.181818</td>\n",
              "      <td>0.1280</td>\n",
              "      <td>0.837833</td>\n",
              "      <td>1.0</td>\n",
              "      <td>0.950025</td>\n",
              "      <td>0.043769</td>\n",
              "      <td>0.525640</td>\n",
              "      <td>0.0422</td>\n",
              "      <td>17</td>\n",
              "    </tr>\n",
              "    <tr>\n",
              "      <th>4</th>\n",
              "      <td>0.296185</td>\n",
              "      <td>0.712551</td>\n",
              "      <td>0.030951</td>\n",
              "      <td>0.7070</td>\n",
              "      <td>1.0</td>\n",
              "      <td>0.000246</td>\n",
              "      <td>0.909091</td>\n",
              "      <td>0.4020</td>\n",
              "      <td>0.856350</td>\n",
              "      <td>0.0</td>\n",
              "      <td>0.950025</td>\n",
              "      <td>0.079094</td>\n",
              "      <td>0.501324</td>\n",
              "      <td>0.2990</td>\n",
              "      <td>2</td>\n",
              "    </tr>\n",
              "    <tr>\n",
              "      <th>5</th>\n",
              "      <td>1.000000</td>\n",
              "      <td>0.429150</td>\n",
              "      <td>0.037208</td>\n",
              "      <td>0.2450</td>\n",
              "      <td>0.0</td>\n",
              "      <td>0.799000</td>\n",
              "      <td>0.454545</td>\n",
              "      <td>0.2350</td>\n",
              "      <td>0.777431</td>\n",
              "      <td>1.0</td>\n",
              "      <td>0.950025</td>\n",
              "      <td>0.040886</td>\n",
              "      <td>0.426559</td>\n",
              "      <td>0.4770</td>\n",
              "      <td>9</td>\n",
              "    </tr>\n",
              "    <tr>\n",
              "      <th>6</th>\n",
              "      <td>0.995984</td>\n",
              "      <td>0.791498</td>\n",
              "      <td>0.036566</td>\n",
              "      <td>0.0573</td>\n",
              "      <td>0.0</td>\n",
              "      <td>0.000002</td>\n",
              "      <td>0.454545</td>\n",
              "      <td>0.1760</td>\n",
              "      <td>0.763154</td>\n",
              "      <td>1.0</td>\n",
              "      <td>0.950025</td>\n",
              "      <td>0.060968</td>\n",
              "      <td>0.351743</td>\n",
              "      <td>0.4870</td>\n",
              "      <td>5</td>\n",
              "    </tr>\n",
              "    <tr>\n",
              "      <th>7</th>\n",
              "      <td>1.000000</td>\n",
              "      <td>0.479757</td>\n",
              "      <td>0.034875</td>\n",
              "      <td>0.2390</td>\n",
              "      <td>0.0</td>\n",
              "      <td>0.186000</td>\n",
              "      <td>0.818182</td>\n",
              "      <td>0.1950</td>\n",
              "      <td>0.802963</td>\n",
              "      <td>1.0</td>\n",
              "      <td>0.950025</td>\n",
              "      <td>0.029763</td>\n",
              "      <td>0.323539</td>\n",
              "      <td>0.3660</td>\n",
              "      <td>0</td>\n",
              "    </tr>\n",
              "    <tr>\n",
              "      <th>8</th>\n",
              "      <td>1.000000</td>\n",
              "      <td>0.474696</td>\n",
              "      <td>0.027507</td>\n",
              "      <td>0.2380</td>\n",
              "      <td>0.0</td>\n",
              "      <td>0.960000</td>\n",
              "      <td>0.727273</td>\n",
              "      <td>0.1490</td>\n",
              "      <td>0.672181</td>\n",
              "      <td>1.0</td>\n",
              "      <td>0.950025</td>\n",
              "      <td>0.076313</td>\n",
              "      <td>0.534112</td>\n",
              "      <td>0.6210</td>\n",
              "      <td>0</td>\n",
              "    </tr>\n",
              "    <tr>\n",
              "      <th>9</th>\n",
              "      <td>0.006847</td>\n",
              "      <td>0.577935</td>\n",
              "      <td>0.089224</td>\n",
              "      <td>0.7530</td>\n",
              "      <td>0.0</td>\n",
              "      <td>0.873000</td>\n",
              "      <td>0.727273</td>\n",
              "      <td>0.0920</td>\n",
              "      <td>0.843178</td>\n",
              "      <td>1.0</td>\n",
              "      <td>0.950025</td>\n",
              "      <td>0.045932</td>\n",
              "      <td>0.521517</td>\n",
              "      <td>0.1190</td>\n",
              "      <td>0</td>\n",
              "    </tr>\n",
              "  </tbody>\n",
              "</table>\n",
              "</div>"
            ],
            "text/plain": [
              "   acousticness  danceability  duration_ms  ...     tempo  valence  popularity\n",
              "0      0.994980      0.605263     0.031533  ...  0.615900   0.6340          12\n",
              "1      0.645582      0.862348     0.028136  ...  0.356823   0.9500           7\n",
              "2      0.996988      0.654858     0.030689  ...  0.400810   0.6890           4\n",
              "3      0.000174      0.738866     0.079068  ...  0.525640   0.0422          17\n",
              "4      0.296185      0.712551     0.030951  ...  0.501324   0.2990           2\n",
              "5      1.000000      0.429150     0.037208  ...  0.426559   0.4770           9\n",
              "6      0.995984      0.791498     0.036566  ...  0.351743   0.4870           5\n",
              "7      1.000000      0.479757     0.034875  ...  0.323539   0.3660           0\n",
              "8      1.000000      0.474696     0.027507  ...  0.534112   0.6210           0\n",
              "9      0.006847      0.577935     0.089224  ...  0.521517   0.1190           0\n",
              "\n",
              "[10 rows x 15 columns]"
            ]
          },
          "metadata": {
            "tags": []
          },
          "execution_count": 94
        }
      ]
    },
    {
      "cell_type": "markdown",
      "metadata": {
        "id": "1Onf5Tz9Q82N"
      },
      "source": [
        "### 6. Разделим data и data_score"
      ]
    },
    {
      "cell_type": "code",
      "metadata": {
        "colab": {
          "base_uri": "https://localhost:8080/"
        },
        "id": "L7kWCfuPRf8T",
        "outputId": "62e249b7-bb34-4f7e-b4fd-bc39373ba2c1"
      },
      "source": [
        "data_score = data.iloc[:, -1]\r\n",
        "data = data.drop(data.columns[-1], axis=1)"
      ],
      "execution_count": null,
      "outputs": [
        {
          "output_type": "stream",
          "text": [
            "[12  7  4 ...  0 69  0]\n"
          ],
          "name": "stdout"
        }
      ]
    },
    {
      "cell_type": "markdown",
      "metadata": {
        "id": "9AhxrmhTTpre"
      },
      "source": [
        "### 7. Линейная регрессия"
      ]
    },
    {
      "cell_type": "markdown",
      "metadata": {
        "id": "yZQZqMVPiIHf"
      },
      "source": [
        "#### 7.1 Выделим training_data и target_values"
      ]
    },
    {
      "cell_type": "code",
      "metadata": {
        "colab": {
          "base_uri": "https://localhost:8080/"
        },
        "id": "RYTuD1mWiPdd",
        "outputId": "03d681f0-955c-469f-975f-d0bf16b365a0"
      },
      "source": [
        "X = data.to_numpy()\r\n",
        "y = data_score.to_numpy()\r\n",
        "y = np.hstack(y)\r\n",
        "\r\n",
        "print(y)"
      ],
      "execution_count": null,
      "outputs": [
        {
          "output_type": "stream",
          "text": [
            "[12  7  4 ...  0 69  0]\n"
          ],
          "name": "stdout"
        }
      ]
    },
    {
      "cell_type": "markdown",
      "metadata": {
        "id": "QI_nBzpJTyrO"
      },
      "source": [
        "#### 7.2 Посчитаем RMSE до борьбы с выбросами"
      ]
    },
    {
      "cell_type": "code",
      "metadata": {
        "colab": {
          "base_uri": "https://localhost:8080/"
        },
        "id": "-YfUqEJNUDeW",
        "outputId": "395041ca-8296-436c-a849-ef2ef4618042"
      },
      "source": [
        "from sklearn import datasets\r\n",
        "from sklearn import linear_model\r\n",
        "from sklearn.model_selection import cross_val_score\r\n",
        "from sklearn.model_selection import train_test_split\r\n",
        "from sklearn.linear_model import LinearRegression\r\n",
        "from sklearn.metrics import mean_squared_error\r\n",
        "\r\n",
        "X_train, X_test, y_train, y_test = train_test_split(X, y, test_size = 0.3, random_state = 0)\r\n",
        "\r\n",
        "model = linear_model.LinearRegression()\r\n",
        "model.fit(X_train, y_train)\r\n",
        "\r\n",
        "RMSE = mean_squared_error(y_test, model.predict(X_test), squared=False)\r\n",
        "print(\"RMSE =\", RMSE)\r\n",
        "print(\"cross_val_score=\", cross_val_score(model, X, y))"
      ],
      "execution_count": null,
      "outputs": [
        {
          "output_type": "stream",
          "text": [
            "RMSE = 17.481276767241763\n",
            "cross_val_score= [0.25036727 0.45835759 0.36898706 0.28404874 0.09573546]\n"
          ],
          "name": "stdout"
        }
      ]
    },
    {
      "cell_type": "markdown",
      "metadata": {
        "id": "Vx2JLN2-UV4G"
      },
      "source": [
        "#### 7.3 Посмотрим на ошибку для каждого трека"
      ]
    },
    {
      "cell_type": "code",
      "metadata": {
        "colab": {
          "base_uri": "https://localhost:8080/",
          "height": 497
        },
        "id": "7zB2Lco2UcVP",
        "outputId": "d95ac803-1844-4353-9b10-5d44b7d83122"
      },
      "source": [
        "import matplotlib.pyplot as plt\r\n",
        "\r\n",
        "%matplotlib inline\r\n",
        "\r\n",
        "tracks = np.arange(len(data))\r\n",
        "rmse = []\r\n",
        "\r\n",
        "model = linear_model.LinearRegression()\r\n",
        "model.fit(X, y)\r\n",
        "\r\n",
        "for i in range(len(data)):\r\n",
        "    \r\n",
        "    X_i = data[i:i+1].to_numpy()\r\n",
        "    y_i = [y[i]]\r\n",
        "    RMSE = mean_squared_error(y_i, model.predict(X_i), squared=False)\r\n",
        "    rmse.append(RMSE)\r\n",
        "\r\n",
        "#\r\n",
        "plt.figure(figsize = (16, 8))\r\n",
        "plt.plot(tracks, rmse, label = u\"\")\r\n",
        "plt.xlabel(u\"Tracks\")\r\n",
        "plt.ylabel(u\"RMSE\")\r\n",
        "plt.grid()\r\n"
      ],
      "execution_count": null,
      "outputs": [
        {
          "output_type": "display_data",
          "data": {
            "image/png": "[encoded data removed]",
            "text/plain": [
              "<Figure size 1152x576 with 1 Axes>"
            ]
          },
          "metadata": {
            "tags": [],
            "needs_background": "light"
          }
        }
      ]
    },
    {
      "cell_type": "markdown",
      "metadata": {
        "id": "6e1LP1NIcliT"
      },
      "source": [
        "#### 7.4 Удалим песни с большим отклонением (удалим примерно 3%)"
      ]
    },
    {
      "cell_type": "code",
      "metadata": {
        "id": "rH-YqlYqctw_"
      },
      "source": [
        "percentile = 97\r\n",
        "\r\n",
        "crazy_threshold = np.percentile(rmse, q = percentile)\r\n",
        "\r\n",
        "to_delete = []\r\n",
        "\r\n",
        "model = linear_model.LinearRegression()\r\n",
        "model.fit(X, y)\r\n",
        "\r\n",
        "for i in range(len(data)):\r\n",
        "    X_i = data[i:i+1].to_numpy()\r\n",
        "    y_i = [y[i]]\r\n",
        "    RMSE = mean_squared_error(y_i, model.predict(X_i), squared=False)\r\n",
        "    if RMSE > crazy_threshold:\r\n",
        "        to_delete.append(data.index[i])\r\n",
        "        \r\n",
        "\r\n",
        "new_data = data\r\n",
        "new_data = new_data.drop(to_delete)\r\n",
        "y = np.delete(y, to_delete, axis = 0)\r\n",
        "X = new_data.to_numpy()"
      ],
      "execution_count": null,
      "outputs": []
    },
    {
      "cell_type": "markdown",
      "metadata": {
        "id": "SyngOnYWdhCj"
      },
      "source": [
        "#### 7.5 Финальное предсказание линейной регрессии"
      ]
    },
    {
      "cell_type": "code",
      "metadata": {
        "colab": {
          "base_uri": "https://localhost:8080/"
        },
        "id": "ghU9992ld8VA",
        "outputId": "73f10e84-9320-4b91-cd7a-955a4cab352e"
      },
      "source": [
        "from sklearn.preprocessing import MinMaxScaler\r\n",
        "\r\n",
        "scaler = MinMaxScaler(feature_range=(0, 1))\r\n",
        "scaler = scaler.fit(X)\r\n",
        "X = scaler.transform(X)\r\n",
        "\r\n",
        "X_train, X_test, y_train, y_test = train_test_split(X, y, test_size = 0.3, random_state = 42)\r\n",
        "\r\n",
        "model = linear_model.LinearRegression()\r\n",
        "model.fit(X_train, y_train)\r\n",
        "\r\n",
        "RMSE = mean_squared_error(y_test, model.predict(X_test), squared=False)\r\n",
        "\r\n",
        "print(\"RMSE = \", RMSE)\r\n",
        "print(\"cross_val_score =\", cross_val_score(model, X, y))"
      ],
      "execution_count": null,
      "outputs": [
        {
          "output_type": "stream",
          "text": [
            "RMSE =  15.661152533357583\n",
            "cross_val_score = [0.34776398 0.52447019 0.48824872 0.43348751 0.28138437]\n"
          ],
          "name": "stdout"
        }
      ]
    },
    {
      "cell_type": "markdown",
      "metadata": {
        "id": "h6lifpcdeQEV"
      },
      "source": [
        "### 8. Ramdom Forest Regresion"
      ]
    },
    {
      "cell_type": "markdown",
      "metadata": {
        "id": "D93E5GePgdFI"
      },
      "source": [
        "#### 8.1. Выделим training_data и target_values"
      ]
    },
    {
      "cell_type": "code",
      "metadata": {
        "colab": {
          "base_uri": "https://localhost:8080/"
        },
        "id": "PAZJ-jVjeqM6",
        "outputId": "3eb14710-3ab0-42de-a321-4e433868c068"
      },
      "source": [
        "X = data.to_numpy()\r\n",
        "y = data_score.to_numpy()\r\n",
        "y = np.hstack(y)\r\n",
        "\r\n",
        "print(y)"
      ],
      "execution_count": null,
      "outputs": [
        {
          "output_type": "stream",
          "text": [
            "[12  7  4 ...  0 69  0]\n"
          ],
          "name": "stdout"
        }
      ]
    },
    {
      "cell_type": "markdown",
      "metadata": {
        "id": "mB4FDItAg7Ye"
      },
      "source": [
        "#### 8.2 Регрессия"
      ]
    },
    {
      "cell_type": "code",
      "metadata": {
        "colab": {
          "base_uri": "https://localhost:8080/"
        },
        "id": "uYBO4EPlhFOg",
        "outputId": "1eee4864-5d52-4211-f2b4-35264db6ff93"
      },
      "source": [
        "from sklearn.ensemble import RandomForestRegressor\r\n",
        "\r\n",
        "X_train, X_test, y_train, y_test = train_test_split(X, y, test_size = 0.3, random_state = 0)\r\n",
        "\r\n",
        "model = RandomForestRegressor()\r\n",
        "model.fit(X_train, y_train)\r\n",
        "\r\n",
        "RMSE = mean_squared_error(y_test, model.predict(X_test), squared=False)\r\n",
        "\r\n",
        "print(\"RMSE = \", RMSE)"
      ],
      "execution_count": null,
      "outputs": [
        {
          "output_type": "stream",
          "text": [
            "RMSE =  12.354911595486112\n"
          ],
          "name": "stdout"
        }
      ]
    }
  ]
}
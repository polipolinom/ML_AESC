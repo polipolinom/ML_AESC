{
  "nbformat": 4,
  "nbformat_minor": 0,
  "metadata": {
    "colab": {
      "name": "project_Shaydurova.ipynb",
      "provenance": [],
      "collapsed_sections": [],
      "toc_visible": true,
      "authorship_tag": "ABX9TyNGH0HfRL0QLAK4KUMeMajn"
    },
    "kernelspec": {
      "name": "python3",
      "display_name": "Python 3"
    }
  },
  "cells": [
    {
      "cell_type": "markdown",
      "metadata": {
        "id": "ya4jdgQst61u"
      },
      "source": [
        "# Определение популярности песни по некоторым ее характеристикам\n",
        "\n",
        "Данные \"data.csv\" &mdash; - это таблица из более, чем 170.000 песен, собранных с помощью Spotify WEB API.\n",
        "\n",
        "Расшифровка столбцов в \"data.csv\" для справки:\n",
        "- acousticness &mdash; акустичность трека (по некоторой условной шкале от 0 до 1)\n",
        "- artists &mdash; исполнитель\n",
        "- danceability &mdash; танцевальность трека (по некоторой условной шкале от 0 до 1)\n",
        "- duration_ms &mdash; длительность в миллисекундах\n",
        "- energy &mdash; энергия трека (по некоторой условной шкале от 0 до 1) \n",
        "- explicit &mdash; содержание в треке нецензурной лексики (0 - нет нецензурной лексики, 1 - есть нецензурная лексика) \n",
        "- id &mdash; индивидуальный номер трека, сгенирированный Spotify\n",
        "- instrumentalness &mdash; инструментальность трека (по некоторой условной шкале от 0 до 1)\n",
        "- key &mdash; первая нота трека (С - 0, С# - 1 и так далее, H - 11)\n",
        "- liveness &mdash; звучность живого исполнения трека (по некоторой условной шкале от 0 до 1)\n",
        "- loudness &mdash; громкость трека в децибелах (в диапазоне от -60 о 0)\n",
        "- mode &mdash; начинается ли трек с основной аккордовой последовательности (0 - не начинается, 1 - начинается)\n",
        "- name &mdash; название трека\n",
        "- popularity &mdash; популярность трека в США (по некоторой условной шкале от 0 до 100)\n",
        "- release_date &mdash; дата выпуска трека (в формате yyyy-mm-dd или yyyy)\n",
        "- speechiness\t&mdash; содержание человеческого голоса (по некоторой условной шкале от 0 до 1)\n",
        "- tempo &mdash; темп трека в BMP (от 0 до 250)\n",
        "- valence &mdash; позитивность трека (по некоторой условной шкале от 0 до 1)\n",
        "- year &mdash; год выпуска трека (от 1920 до 2021)"
      ]
    },
    {
      "cell_type": "markdown",
      "metadata": {
        "id": "R6504Isiy-CU"
      },
      "source": [
        "### 1. Загрузка данных"
      ]
    },
    {
      "cell_type": "code",
      "metadata": {
        "colab": {
          "resources": {
            "http://localhost:8080/nbextensions/google.colab/files.js": {
              "data": "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",
              "ok": true,
              "headers": [
                [
                  "content-type",
                  "application/javascript"
                ]
              ],
              "status": 200,
              "status_text": ""
            }
          },
          "base_uri": "https://localhost:8080/",
          "height": 72
        },
        "id": "2e4fSilNy1qJ",
        "outputId": "7058c002-f96a-407f-a881-97b6fee612fb"
      },
      "source": [
        "from google.colab import files\n",
        "uploaded = files.upload()"
      ],
      "execution_count": null,
      "outputs": [
        {
          "output_type": "display_data",
          "data": {
            "text/html": [
              "\n",
              "     <input type=\"file\" id=\"files-5af440f9-83f4-4a8d-bfa2-cb51633f5bf1\" name=\"files[]\" multiple disabled\n",
              "        style=\"border:none\" />\n",
              "     <output id=\"result-5af440f9-83f4-4a8d-bfa2-cb51633f5bf1\">\n",
              "      Upload widget is only available when the cell has been executed in the\n",
              "      current browser session. Please rerun this cell to enable.\n",
              "      </output>\n",
              "      <script src=\"/nbextensions/google.colab/files.js\"></script> "
            ],
            "text/plain": [
              "<IPython.core.display.HTML object>"
            ]
          },
          "metadata": {
            "tags": []
          }
        },
        {
          "output_type": "stream",
          "text": [
            "Saving data.csv to data.csv\n"
          ],
          "name": "stdout"
        }
      ]
    },
    {
      "cell_type": "code",
      "metadata": {
        "colab": {
          "base_uri": "https://localhost:8080/",
          "height": 857
        },
        "id": "utNIZWY709zm",
        "outputId": "949deec2-0a66-4642-8e20-a514d5f29ddd"
      },
      "source": [
        "import pandas as pd\n",
        "import numpy as np\n",
        "\n",
        "data = pd.read_csv('data.csv')\n",
        "data[0:15]"
      ],
      "execution_count": 74,
      "outputs": [
        {
          "output_type": "execute_result",
          "data": {
            "text/html": [
              "<div>\n",
              "<style scoped>\n",
              "    .dataframe tbody tr th:only-of-type {\n",
              "        vertical-align: middle;\n",
              "    }\n",
              "\n",
              "    .dataframe tbody tr th {\n",
              "        vertical-align: top;\n",
              "    }\n",
              "\n",
              "    .dataframe thead th {\n",
              "        text-align: right;\n",
              "    }\n",
              "</style>\n",
              "<table border=\"1\" class=\"dataframe\">\n",
              "  <thead>\n",
              "    <tr style=\"text-align: right;\">\n",
              "      <th></th>\n",
              "      <th>acousticness</th>\n",
              "      <th>artists</th>\n",
              "      <th>danceability</th>\n",
              "      <th>duration_ms</th>\n",
              "      <th>energy</th>\n",
              "      <th>explicit</th>\n",
              "      <th>id</th>\n",
              "      <th>instrumentalness</th>\n",
              "      <th>key</th>\n",
              "      <th>liveness</th>\n",
              "      <th>loudness</th>\n",
              "      <th>mode</th>\n",
              "      <th>name</th>\n",
              "      <th>popularity</th>\n",
              "      <th>release_date</th>\n",
              "      <th>speechiness</th>\n",
              "      <th>tempo</th>\n",
              "      <th>valence</th>\n",
              "      <th>year</th>\n",
              "    </tr>\n",
              "  </thead>\n",
              "  <tbody>\n",
              "    <tr>\n",
              "      <th>0</th>\n",
              "      <td>0.991000</td>\n",
              "      <td>['Mamie Smith']</td>\n",
              "      <td>0.598</td>\n",
              "      <td>168333</td>\n",
              "      <td>0.2240</td>\n",
              "      <td>0</td>\n",
              "      <td>0cS0A1fUEUd1EW3FcF8AEI</td>\n",
              "      <td>0.000522</td>\n",
              "      <td>5</td>\n",
              "      <td>0.3790</td>\n",
              "      <td>-12.628</td>\n",
              "      <td>0</td>\n",
              "      <td>Keep A Song In Your Soul</td>\n",
              "      <td>12</td>\n",
              "      <td>1920</td>\n",
              "      <td>0.0936</td>\n",
              "      <td>149.976</td>\n",
              "      <td>0.6340</td>\n",
              "      <td>1920</td>\n",
              "    </tr>\n",
              "    <tr>\n",
              "      <th>1</th>\n",
              "      <td>0.643000</td>\n",
              "      <td>[\"Screamin' Jay Hawkins\"]</td>\n",
              "      <td>0.852</td>\n",
              "      <td>150200</td>\n",
              "      <td>0.5170</td>\n",
              "      <td>0</td>\n",
              "      <td>0hbkKFIJm7Z05H8Zl9w30f</td>\n",
              "      <td>0.026400</td>\n",
              "      <td>5</td>\n",
              "      <td>0.0809</td>\n",
              "      <td>-7.261</td>\n",
              "      <td>0</td>\n",
              "      <td>I Put A Spell On You</td>\n",
              "      <td>7</td>\n",
              "      <td>1920-01-05</td>\n",
              "      <td>0.0534</td>\n",
              "      <td>86.889</td>\n",
              "      <td>0.9500</td>\n",
              "      <td>1920</td>\n",
              "    </tr>\n",
              "    <tr>\n",
              "      <th>2</th>\n",
              "      <td>0.993000</td>\n",
              "      <td>['Mamie Smith']</td>\n",
              "      <td>0.647</td>\n",
              "      <td>163827</td>\n",
              "      <td>0.1860</td>\n",
              "      <td>0</td>\n",
              "      <td>11m7laMUgmOKqI3oYzuhne</td>\n",
              "      <td>0.000018</td>\n",
              "      <td>0</td>\n",
              "      <td>0.5190</td>\n",
              "      <td>-12.098</td>\n",
              "      <td>1</td>\n",
              "      <td>Golfing Papa</td>\n",
              "      <td>4</td>\n",
              "      <td>1920</td>\n",
              "      <td>0.1740</td>\n",
              "      <td>97.600</td>\n",
              "      <td>0.6890</td>\n",
              "      <td>1920</td>\n",
              "    </tr>\n",
              "    <tr>\n",
              "      <th>3</th>\n",
              "      <td>0.000173</td>\n",
              "      <td>['Oscar Velazquez']</td>\n",
              "      <td>0.730</td>\n",
              "      <td>422087</td>\n",
              "      <td>0.7980</td>\n",
              "      <td>0</td>\n",
              "      <td>19Lc5SfJJ5O1oaxY0fpwfh</td>\n",
              "      <td>0.801000</td>\n",
              "      <td>2</td>\n",
              "      <td>0.1280</td>\n",
              "      <td>-7.311</td>\n",
              "      <td>1</td>\n",
              "      <td>True House Music - Xavier Santos &amp; Carlos Gomi...</td>\n",
              "      <td>17</td>\n",
              "      <td>1920-01-01</td>\n",
              "      <td>0.0425</td>\n",
              "      <td>127.997</td>\n",
              "      <td>0.0422</td>\n",
              "      <td>1920</td>\n",
              "    </tr>\n",
              "    <tr>\n",
              "      <th>4</th>\n",
              "      <td>0.295000</td>\n",
              "      <td>['Mixe']</td>\n",
              "      <td>0.704</td>\n",
              "      <td>165224</td>\n",
              "      <td>0.7070</td>\n",
              "      <td>1</td>\n",
              "      <td>2hJjbsLCytGsnAHfdsLejp</td>\n",
              "      <td>0.000246</td>\n",
              "      <td>10</td>\n",
              "      <td>0.4020</td>\n",
              "      <td>-6.036</td>\n",
              "      <td>0</td>\n",
              "      <td>Xuniverxe</td>\n",
              "      <td>2</td>\n",
              "      <td>1920-10-01</td>\n",
              "      <td>0.0768</td>\n",
              "      <td>122.076</td>\n",
              "      <td>0.2990</td>\n",
              "      <td>1920</td>\n",
              "    </tr>\n",
              "    <tr>\n",
              "      <th>5</th>\n",
              "      <td>0.996000</td>\n",
              "      <td>['Mamie Smith &amp; Her Jazz Hounds']</td>\n",
              "      <td>0.424</td>\n",
              "      <td>198627</td>\n",
              "      <td>0.2450</td>\n",
              "      <td>0</td>\n",
              "      <td>3HnrHGLE9u2MjHtdobfWl9</td>\n",
              "      <td>0.799000</td>\n",
              "      <td>5</td>\n",
              "      <td>0.2350</td>\n",
              "      <td>-11.470</td>\n",
              "      <td>1</td>\n",
              "      <td>Crazy Blues - 78rpm Version</td>\n",
              "      <td>9</td>\n",
              "      <td>1920</td>\n",
              "      <td>0.0397</td>\n",
              "      <td>103.870</td>\n",
              "      <td>0.4770</td>\n",
              "      <td>1920</td>\n",
              "    </tr>\n",
              "    <tr>\n",
              "      <th>6</th>\n",
              "      <td>0.992000</td>\n",
              "      <td>['Mamie Smith']</td>\n",
              "      <td>0.782</td>\n",
              "      <td>195200</td>\n",
              "      <td>0.0573</td>\n",
              "      <td>0</td>\n",
              "      <td>5DlCyqLyX2AOVDTjjkDZ8x</td>\n",
              "      <td>0.000002</td>\n",
              "      <td>5</td>\n",
              "      <td>0.1760</td>\n",
              "      <td>-12.453</td>\n",
              "      <td>1</td>\n",
              "      <td>Don't You Advertise Your Man</td>\n",
              "      <td>5</td>\n",
              "      <td>1920</td>\n",
              "      <td>0.0592</td>\n",
              "      <td>85.652</td>\n",
              "      <td>0.4870</td>\n",
              "      <td>1920</td>\n",
              "    </tr>\n",
              "    <tr>\n",
              "      <th>7</th>\n",
              "      <td>0.996000</td>\n",
              "      <td>['Mamie Smith &amp; Her Jazz Hounds']</td>\n",
              "      <td>0.474</td>\n",
              "      <td>186173</td>\n",
              "      <td>0.2390</td>\n",
              "      <td>0</td>\n",
              "      <td>02FzJbHtqElixxCmrpSCUa</td>\n",
              "      <td>0.186000</td>\n",
              "      <td>9</td>\n",
              "      <td>0.1950</td>\n",
              "      <td>-9.712</td>\n",
              "      <td>1</td>\n",
              "      <td>Arkansas Blues</td>\n",
              "      <td>0</td>\n",
              "      <td>1920</td>\n",
              "      <td>0.0289</td>\n",
              "      <td>78.784</td>\n",
              "      <td>0.3660</td>\n",
              "      <td>1920</td>\n",
              "    </tr>\n",
              "    <tr>\n",
              "      <th>8</th>\n",
              "      <td>0.996000</td>\n",
              "      <td>['Francisco Canaro']</td>\n",
              "      <td>0.469</td>\n",
              "      <td>146840</td>\n",
              "      <td>0.2380</td>\n",
              "      <td>0</td>\n",
              "      <td>02i59gYdjlhBmbbWhf8YuK</td>\n",
              "      <td>0.960000</td>\n",
              "      <td>8</td>\n",
              "      <td>0.1490</td>\n",
              "      <td>-18.717</td>\n",
              "      <td>1</td>\n",
              "      <td>La Chacarera - Remasterizado</td>\n",
              "      <td>0</td>\n",
              "      <td>1920-07-08</td>\n",
              "      <td>0.0741</td>\n",
              "      <td>130.060</td>\n",
              "      <td>0.6210</td>\n",
              "      <td>1920</td>\n",
              "    </tr>\n",
              "    <tr>\n",
              "      <th>9</th>\n",
              "      <td>0.006820</td>\n",
              "      <td>['Meetya']</td>\n",
              "      <td>0.571</td>\n",
              "      <td>476304</td>\n",
              "      <td>0.7530</td>\n",
              "      <td>0</td>\n",
              "      <td>06NUxS2XL3efRh0bloxkHm</td>\n",
              "      <td>0.873000</td>\n",
              "      <td>8</td>\n",
              "      <td>0.0920</td>\n",
              "      <td>-6.943</td>\n",
              "      <td>1</td>\n",
              "      <td>Broken Puppet - Original Mix</td>\n",
              "      <td>0</td>\n",
              "      <td>1920-01-01</td>\n",
              "      <td>0.0446</td>\n",
              "      <td>126.993</td>\n",
              "      <td>0.1190</td>\n",
              "      <td>1920</td>\n",
              "    </tr>\n",
              "    <tr>\n",
              "      <th>10</th>\n",
              "      <td>0.952000</td>\n",
              "      <td>['Dorville']</td>\n",
              "      <td>0.688</td>\n",
              "      <td>150067</td>\n",
              "      <td>0.2200</td>\n",
              "      <td>0</td>\n",
              "      <td>07jrRR1CUUoPb1FLfSy9Jh</td>\n",
              "      <td>0.000000</td>\n",
              "      <td>6</td>\n",
              "      <td>0.2620</td>\n",
              "      <td>-15.208</td>\n",
              "      <td>0</td>\n",
              "      <td>Oouin</td>\n",
              "      <td>0</td>\n",
              "      <td>1920</td>\n",
              "      <td>0.8450</td>\n",
              "      <td>82.024</td>\n",
              "      <td>0.4140</td>\n",
              "      <td>1920</td>\n",
              "    </tr>\n",
              "    <tr>\n",
              "      <th>11</th>\n",
              "      <td>0.996000</td>\n",
              "      <td>['Francisco Canaro']</td>\n",
              "      <td>0.579</td>\n",
              "      <td>167213</td>\n",
              "      <td>0.3560</td>\n",
              "      <td>0</td>\n",
              "      <td>0ANuF7SvPeIHanGcCpy9jR</td>\n",
              "      <td>0.948000</td>\n",
              "      <td>10</td>\n",
              "      <td>0.1740</td>\n",
              "      <td>-14.574</td>\n",
              "      <td>1</td>\n",
              "      <td>Desengaño - Remasterizado</td>\n",
              "      <td>0</td>\n",
              "      <td>1920-07-08</td>\n",
              "      <td>0.0394</td>\n",
              "      <td>131.494</td>\n",
              "      <td>0.7030</td>\n",
              "      <td>1920</td>\n",
              "    </tr>\n",
              "    <tr>\n",
              "      <th>12</th>\n",
              "      <td>0.992000</td>\n",
              "      <td>['Ka Koula']</td>\n",
              "      <td>0.353</td>\n",
              "      <td>285707</td>\n",
              "      <td>0.3960</td>\n",
              "      <td>0</td>\n",
              "      <td>0BEO6nHi1rmTOPiEZvCIDW</td>\n",
              "      <td>0.924000</td>\n",
              "      <td>1</td>\n",
              "      <td>0.3120</td>\n",
              "      <td>-14.053</td>\n",
              "      <td>1</td>\n",
              "      <td>Ta oula sou</td>\n",
              "      <td>0</td>\n",
              "      <td>1920-01-01</td>\n",
              "      <td>0.0447</td>\n",
              "      <td>111.268</td>\n",
              "      <td>0.5660</td>\n",
              "      <td>1920</td>\n",
              "    </tr>\n",
              "    <tr>\n",
              "      <th>13</th>\n",
              "      <td>0.004780</td>\n",
              "      <td>['Justrock']</td>\n",
              "      <td>0.643</td>\n",
              "      <td>304078</td>\n",
              "      <td>0.9980</td>\n",
              "      <td>0</td>\n",
              "      <td>0DH1IROKoPK5XTglUt9Pq0</td>\n",
              "      <td>0.476000</td>\n",
              "      <td>1</td>\n",
              "      <td>0.1050</td>\n",
              "      <td>-6.120</td>\n",
              "      <td>1</td>\n",
              "      <td>Schumacher</td>\n",
              "      <td>0</td>\n",
              "      <td>1920-01-01</td>\n",
              "      <td>0.0566</td>\n",
              "      <td>124.018</td>\n",
              "      <td>0.6390</td>\n",
              "      <td>1920</td>\n",
              "    </tr>\n",
              "    <tr>\n",
              "      <th>14</th>\n",
              "      <td>0.993000</td>\n",
              "      <td>['Takis Nikolaou']</td>\n",
              "      <td>0.453</td>\n",
              "      <td>255520</td>\n",
              "      <td>0.4100</td>\n",
              "      <td>0</td>\n",
              "      <td>0HVjPaxbyfFcg8Rh0plyo5</td>\n",
              "      <td>0.160000</td>\n",
              "      <td>2</td>\n",
              "      <td>0.2920</td>\n",
              "      <td>-10.469</td>\n",
              "      <td>1</td>\n",
              "      <td>Mparmpaouzos</td>\n",
              "      <td>0</td>\n",
              "      <td>1920-01-01</td>\n",
              "      <td>0.0440</td>\n",
              "      <td>67.271</td>\n",
              "      <td>0.8940</td>\n",
              "      <td>1920</td>\n",
              "    </tr>\n",
              "  </tbody>\n",
              "</table>\n",
              "</div>"
            ],
            "text/plain": [
              "    acousticness                            artists  ...  valence  year\n",
              "0       0.991000                    ['Mamie Smith']  ...   0.6340  1920\n",
              "1       0.643000          [\"Screamin' Jay Hawkins\"]  ...   0.9500  1920\n",
              "2       0.993000                    ['Mamie Smith']  ...   0.6890  1920\n",
              "3       0.000173                ['Oscar Velazquez']  ...   0.0422  1920\n",
              "4       0.295000                           ['Mixe']  ...   0.2990  1920\n",
              "5       0.996000  ['Mamie Smith & Her Jazz Hounds']  ...   0.4770  1920\n",
              "6       0.992000                    ['Mamie Smith']  ...   0.4870  1920\n",
              "7       0.996000  ['Mamie Smith & Her Jazz Hounds']  ...   0.3660  1920\n",
              "8       0.996000               ['Francisco Canaro']  ...   0.6210  1920\n",
              "9       0.006820                         ['Meetya']  ...   0.1190  1920\n",
              "10      0.952000                       ['Dorville']  ...   0.4140  1920\n",
              "11      0.996000               ['Francisco Canaro']  ...   0.7030  1920\n",
              "12      0.992000                       ['Ka Koula']  ...   0.5660  1920\n",
              "13      0.004780                       ['Justrock']  ...   0.6390  1920\n",
              "14      0.993000                 ['Takis Nikolaou']  ...   0.8940  1920\n",
              "\n",
              "[15 rows x 19 columns]"
            ]
          },
          "metadata": {
            "tags": []
          },
          "execution_count": 74
        }
      ]
    },
    {
      "cell_type": "markdown",
      "metadata": {
        "id": "6F03IghI-JDM"
      },
      "source": [
        "### 2. Удаление ненужных данных"
      ]
    },
    {
      "cell_type": "markdown",
      "metadata": {
        "id": "NPPHrYGy-SE3"
      },
      "source": [
        "Заметим, что столбец *id* нам не нужен, так как это просто рандомно сгенерированное уникальное имя трека. Удалим также столбец *artists*, так как это не числовые функции от трека. Удалим также столбец *release_date*, так как не у всех треков есть точная дата, но у всех есть определнный год выпуска, который указан в другом столбце.\n",
        " Столбец *name* заменим на *length of name*, так как длинные названия хуже запоминаются и \"вредят\" популярности"
      ]
    },
    {
      "cell_type": "code",
      "metadata": {
        "colab": {
          "base_uri": "https://localhost:8080/",
          "height": 413
        },
        "id": "iGKlXM3z-P9s",
        "outputId": "a0eb0b9c-65d2-44d5-cb71-18cb4f6adaf4"
      },
      "source": [
        "data = data.drop(data.columns[[1, 6, 14]], axis=1)\n",
        "data = data.iloc[:, [0, 1, 2, 3, 4, 5, 6, 7, 8, 9, 10, 15, 12, 13, 14, 11]]\n",
        "data.rename(columns={'name':'length of name'}, inplace=True)\n",
        "data.iloc[:, 10] = [len(x) for x in data.iloc[:, 10]]\n",
        "data[0:10]"
      ],
      "execution_count": 75,
      "outputs": [
        {
          "output_type": "execute_result",
          "data": {
            "text/html": [
              "<div>\n",
              "<style scoped>\n",
              "    .dataframe tbody tr th:only-of-type {\n",
              "        vertical-align: middle;\n",
              "    }\n",
              "\n",
              "    .dataframe tbody tr th {\n",
              "        vertical-align: top;\n",
              "    }\n",
              "\n",
              "    .dataframe thead th {\n",
              "        text-align: right;\n",
              "    }\n",
              "</style>\n",
              "<table border=\"1\" class=\"dataframe\">\n",
              "  <thead>\n",
              "    <tr style=\"text-align: right;\">\n",
              "      <th></th>\n",
              "      <th>acousticness</th>\n",
              "      <th>danceability</th>\n",
              "      <th>duration_ms</th>\n",
              "      <th>energy</th>\n",
              "      <th>explicit</th>\n",
              "      <th>instrumentalness</th>\n",
              "      <th>key</th>\n",
              "      <th>liveness</th>\n",
              "      <th>loudness</th>\n",
              "      <th>mode</th>\n",
              "      <th>length of name</th>\n",
              "      <th>year</th>\n",
              "      <th>speechiness</th>\n",
              "      <th>tempo</th>\n",
              "      <th>valence</th>\n",
              "      <th>popularity</th>\n",
              "    </tr>\n",
              "  </thead>\n",
              "  <tbody>\n",
              "    <tr>\n",
              "      <th>0</th>\n",
              "      <td>0.991000</td>\n",
              "      <td>0.598</td>\n",
              "      <td>168333</td>\n",
              "      <td>0.2240</td>\n",
              "      <td>0</td>\n",
              "      <td>0.000522</td>\n",
              "      <td>5</td>\n",
              "      <td>0.3790</td>\n",
              "      <td>-12.628</td>\n",
              "      <td>0</td>\n",
              "      <td>24</td>\n",
              "      <td>1920</td>\n",
              "      <td>0.0936</td>\n",
              "      <td>149.976</td>\n",
              "      <td>0.6340</td>\n",
              "      <td>12</td>\n",
              "    </tr>\n",
              "    <tr>\n",
              "      <th>1</th>\n",
              "      <td>0.643000</td>\n",
              "      <td>0.852</td>\n",
              "      <td>150200</td>\n",
              "      <td>0.5170</td>\n",
              "      <td>0</td>\n",
              "      <td>0.026400</td>\n",
              "      <td>5</td>\n",
              "      <td>0.0809</td>\n",
              "      <td>-7.261</td>\n",
              "      <td>0</td>\n",
              "      <td>20</td>\n",
              "      <td>1920</td>\n",
              "      <td>0.0534</td>\n",
              "      <td>86.889</td>\n",
              "      <td>0.9500</td>\n",
              "      <td>7</td>\n",
              "    </tr>\n",
              "    <tr>\n",
              "      <th>2</th>\n",
              "      <td>0.993000</td>\n",
              "      <td>0.647</td>\n",
              "      <td>163827</td>\n",
              "      <td>0.1860</td>\n",
              "      <td>0</td>\n",
              "      <td>0.000018</td>\n",
              "      <td>0</td>\n",
              "      <td>0.5190</td>\n",
              "      <td>-12.098</td>\n",
              "      <td>1</td>\n",
              "      <td>12</td>\n",
              "      <td>1920</td>\n",
              "      <td>0.1740</td>\n",
              "      <td>97.600</td>\n",
              "      <td>0.6890</td>\n",
              "      <td>4</td>\n",
              "    </tr>\n",
              "    <tr>\n",
              "      <th>3</th>\n",
              "      <td>0.000173</td>\n",
              "      <td>0.730</td>\n",
              "      <td>422087</td>\n",
              "      <td>0.7980</td>\n",
              "      <td>0</td>\n",
              "      <td>0.801000</td>\n",
              "      <td>2</td>\n",
              "      <td>0.1280</td>\n",
              "      <td>-7.311</td>\n",
              "      <td>1</td>\n",
              "      <td>53</td>\n",
              "      <td>1920</td>\n",
              "      <td>0.0425</td>\n",
              "      <td>127.997</td>\n",
              "      <td>0.0422</td>\n",
              "      <td>17</td>\n",
              "    </tr>\n",
              "    <tr>\n",
              "      <th>4</th>\n",
              "      <td>0.295000</td>\n",
              "      <td>0.704</td>\n",
              "      <td>165224</td>\n",
              "      <td>0.7070</td>\n",
              "      <td>1</td>\n",
              "      <td>0.000246</td>\n",
              "      <td>10</td>\n",
              "      <td>0.4020</td>\n",
              "      <td>-6.036</td>\n",
              "      <td>0</td>\n",
              "      <td>9</td>\n",
              "      <td>1920</td>\n",
              "      <td>0.0768</td>\n",
              "      <td>122.076</td>\n",
              "      <td>0.2990</td>\n",
              "      <td>2</td>\n",
              "    </tr>\n",
              "    <tr>\n",
              "      <th>5</th>\n",
              "      <td>0.996000</td>\n",
              "      <td>0.424</td>\n",
              "      <td>198627</td>\n",
              "      <td>0.2450</td>\n",
              "      <td>0</td>\n",
              "      <td>0.799000</td>\n",
              "      <td>5</td>\n",
              "      <td>0.2350</td>\n",
              "      <td>-11.470</td>\n",
              "      <td>1</td>\n",
              "      <td>27</td>\n",
              "      <td>1920</td>\n",
              "      <td>0.0397</td>\n",
              "      <td>103.870</td>\n",
              "      <td>0.4770</td>\n",
              "      <td>9</td>\n",
              "    </tr>\n",
              "    <tr>\n",
              "      <th>6</th>\n",
              "      <td>0.992000</td>\n",
              "      <td>0.782</td>\n",
              "      <td>195200</td>\n",
              "      <td>0.0573</td>\n",
              "      <td>0</td>\n",
              "      <td>0.000002</td>\n",
              "      <td>5</td>\n",
              "      <td>0.1760</td>\n",
              "      <td>-12.453</td>\n",
              "      <td>1</td>\n",
              "      <td>28</td>\n",
              "      <td>1920</td>\n",
              "      <td>0.0592</td>\n",
              "      <td>85.652</td>\n",
              "      <td>0.4870</td>\n",
              "      <td>5</td>\n",
              "    </tr>\n",
              "    <tr>\n",
              "      <th>7</th>\n",
              "      <td>0.996000</td>\n",
              "      <td>0.474</td>\n",
              "      <td>186173</td>\n",
              "      <td>0.2390</td>\n",
              "      <td>0</td>\n",
              "      <td>0.186000</td>\n",
              "      <td>9</td>\n",
              "      <td>0.1950</td>\n",
              "      <td>-9.712</td>\n",
              "      <td>1</td>\n",
              "      <td>14</td>\n",
              "      <td>1920</td>\n",
              "      <td>0.0289</td>\n",
              "      <td>78.784</td>\n",
              "      <td>0.3660</td>\n",
              "      <td>0</td>\n",
              "    </tr>\n",
              "    <tr>\n",
              "      <th>8</th>\n",
              "      <td>0.996000</td>\n",
              "      <td>0.469</td>\n",
              "      <td>146840</td>\n",
              "      <td>0.2380</td>\n",
              "      <td>0</td>\n",
              "      <td>0.960000</td>\n",
              "      <td>8</td>\n",
              "      <td>0.1490</td>\n",
              "      <td>-18.717</td>\n",
              "      <td>1</td>\n",
              "      <td>28</td>\n",
              "      <td>1920</td>\n",
              "      <td>0.0741</td>\n",
              "      <td>130.060</td>\n",
              "      <td>0.6210</td>\n",
              "      <td>0</td>\n",
              "    </tr>\n",
              "    <tr>\n",
              "      <th>9</th>\n",
              "      <td>0.006820</td>\n",
              "      <td>0.571</td>\n",
              "      <td>476304</td>\n",
              "      <td>0.7530</td>\n",
              "      <td>0</td>\n",
              "      <td>0.873000</td>\n",
              "      <td>8</td>\n",
              "      <td>0.0920</td>\n",
              "      <td>-6.943</td>\n",
              "      <td>1</td>\n",
              "      <td>28</td>\n",
              "      <td>1920</td>\n",
              "      <td>0.0446</td>\n",
              "      <td>126.993</td>\n",
              "      <td>0.1190</td>\n",
              "      <td>0</td>\n",
              "    </tr>\n",
              "  </tbody>\n",
              "</table>\n",
              "</div>"
            ],
            "text/plain": [
              "   acousticness  danceability  duration_ms  ...    tempo  valence  popularity\n",
              "0      0.991000         0.598       168333  ...  149.976   0.6340          12\n",
              "1      0.643000         0.852       150200  ...   86.889   0.9500           7\n",
              "2      0.993000         0.647       163827  ...   97.600   0.6890           4\n",
              "3      0.000173         0.730       422087  ...  127.997   0.0422          17\n",
              "4      0.295000         0.704       165224  ...  122.076   0.2990           2\n",
              "5      0.996000         0.424       198627  ...  103.870   0.4770           9\n",
              "6      0.992000         0.782       195200  ...   85.652   0.4870           5\n",
              "7      0.996000         0.474       186173  ...   78.784   0.3660           0\n",
              "8      0.996000         0.469       146840  ...  130.060   0.6210           0\n",
              "9      0.006820         0.571       476304  ...  126.993   0.1190           0\n",
              "\n",
              "[10 rows x 16 columns]"
            ]
          },
          "metadata": {
            "tags": []
          },
          "execution_count": 75
        }
      ]
    },
    {
      "cell_type": "markdown",
      "metadata": {
        "id": "2n6wdlC4BIoh"
      },
      "source": [
        "### 3. Пропуски в данных"
      ]
    },
    {
      "cell_type": "markdown",
      "metadata": {
        "id": "DsfWkoJyBP5u"
      },
      "source": [
        "Проверим, есть ли пропуски в данных. Если есть, то заменим на среднее значение по столбцу"
      ]
    },
    {
      "cell_type": "code",
      "metadata": {
        "colab": {
          "base_uri": "https://localhost:8080/"
        },
        "id": "dw7UL33OBUTg",
        "outputId": "d0ee480c-30b9-4e79-8c79-bc35de9c4f0d"
      },
      "source": [
        "data.isna().sum()"
      ],
      "execution_count": 76,
      "outputs": [
        {
          "output_type": "execute_result",
          "data": {
            "text/plain": [
              "acousticness        0\n",
              "danceability        0\n",
              "duration_ms         0\n",
              "energy              0\n",
              "explicit            0\n",
              "instrumentalness    0\n",
              "key                 0\n",
              "liveness            0\n",
              "loudness            0\n",
              "mode                0\n",
              "length of name      0\n",
              "year                0\n",
              "speechiness         0\n",
              "tempo               0\n",
              "valence             0\n",
              "popularity          0\n",
              "dtype: int64"
            ]
          },
          "metadata": {
            "tags": []
          },
          "execution_count": 76
        }
      ]
    },
    {
      "cell_type": "markdown",
      "metadata": {
        "id": "MoTV32wLNUuF"
      },
      "source": [
        "### 4. Визуализация данных"
      ]
    },
    {
      "cell_type": "code",
      "metadata": {
        "colab": {
          "base_uri": "https://localhost:8080/",
          "height": 821
        },
        "id": "uVJuqbB1NciU",
        "outputId": "c71c519e-23ba-4acb-f18c-bd80a7c0a9bf"
      },
      "source": [
        "import matplotlib.pyplot as plt\n",
        "\n",
        "data.hist(figsize=(16, 16), color='black')\n",
        "plt.show()"
      ],
      "execution_count": 77,
      "outputs": [
        {
          "output_type": "display_data",
          "data": {
            "image/png": "[encoded data removed]",
            "text/plain": [
              "<Figure size 1152x1152 with 16 Axes>"
            ]
          },
          "metadata": {
            "tags": [],
            "needs_background": "light"
          }
        }
      ]
    },
    {
      "cell_type": "markdown",
      "metadata": {
        "id": "4Y6HPQ7NQg_9"
      },
      "source": [
        "### 5. Нормализация данных"
      ]
    },
    {
      "cell_type": "code",
      "metadata": {
        "colab": {
          "base_uri": "https://localhost:8080/",
          "height": 396
        },
        "id": "5vzC2qkhQhOq",
        "outputId": "522a5598-3f45-4b04-89d2-41d1d79da90f"
      },
      "source": [
        "data.iloc[:, 8] += 65.0\n",
        "\n",
        "for i in range(0, len(data.columns) - 1):\n",
        "  mx = np.nanmax(data.iloc[:, i].values)\n",
        "  data.iloc[:, i] /= mx\n",
        "\n",
        "data[0:10]"
      ],
      "execution_count": 78,
      "outputs": [
        {
          "output_type": "execute_result",
          "data": {
            "text/html": [
              "<div>\n",
              "<style scoped>\n",
              "    .dataframe tbody tr th:only-of-type {\n",
              "        vertical-align: middle;\n",
              "    }\n",
              "\n",
              "    .dataframe tbody tr th {\n",
              "        vertical-align: top;\n",
              "    }\n",
              "\n",
              "    .dataframe thead th {\n",
              "        text-align: right;\n",
              "    }\n",
              "</style>\n",
              "<table border=\"1\" class=\"dataframe\">\n",
              "  <thead>\n",
              "    <tr style=\"text-align: right;\">\n",
              "      <th></th>\n",
              "      <th>acousticness</th>\n",
              "      <th>danceability</th>\n",
              "      <th>duration_ms</th>\n",
              "      <th>energy</th>\n",
              "      <th>explicit</th>\n",
              "      <th>instrumentalness</th>\n",
              "      <th>key</th>\n",
              "      <th>liveness</th>\n",
              "      <th>loudness</th>\n",
              "      <th>mode</th>\n",
              "      <th>length of name</th>\n",
              "      <th>year</th>\n",
              "      <th>speechiness</th>\n",
              "      <th>tempo</th>\n",
              "      <th>valence</th>\n",
              "      <th>popularity</th>\n",
              "    </tr>\n",
              "  </thead>\n",
              "  <tbody>\n",
              "    <tr>\n",
              "      <th>0</th>\n",
              "      <td>0.994980</td>\n",
              "      <td>0.605263</td>\n",
              "      <td>0.031533</td>\n",
              "      <td>0.2240</td>\n",
              "      <td>0.0</td>\n",
              "      <td>0.000522</td>\n",
              "      <td>0.454545</td>\n",
              "      <td>0.3790</td>\n",
              "      <td>0.760613</td>\n",
              "      <td>0.0</td>\n",
              "      <td>0.094118</td>\n",
              "      <td>0.950025</td>\n",
              "      <td>0.096395</td>\n",
              "      <td>0.615900</td>\n",
              "      <td>0.6340</td>\n",
              "      <td>12</td>\n",
              "    </tr>\n",
              "    <tr>\n",
              "      <th>1</th>\n",
              "      <td>0.645582</td>\n",
              "      <td>0.862348</td>\n",
              "      <td>0.028136</td>\n",
              "      <td>0.5170</td>\n",
              "      <td>0.0</td>\n",
              "      <td>0.026400</td>\n",
              "      <td>0.454545</td>\n",
              "      <td>0.0809</td>\n",
              "      <td>0.838559</td>\n",
              "      <td>0.0</td>\n",
              "      <td>0.078431</td>\n",
              "      <td>0.950025</td>\n",
              "      <td>0.054995</td>\n",
              "      <td>0.356823</td>\n",
              "      <td>0.9500</td>\n",
              "      <td>7</td>\n",
              "    </tr>\n",
              "    <tr>\n",
              "      <th>2</th>\n",
              "      <td>0.996988</td>\n",
              "      <td>0.654858</td>\n",
              "      <td>0.030689</td>\n",
              "      <td>0.1860</td>\n",
              "      <td>0.0</td>\n",
              "      <td>0.000018</td>\n",
              "      <td>0.000000</td>\n",
              "      <td>0.5190</td>\n",
              "      <td>0.768310</td>\n",
              "      <td>1.0</td>\n",
              "      <td>0.047059</td>\n",
              "      <td>0.950025</td>\n",
              "      <td>0.179197</td>\n",
              "      <td>0.400810</td>\n",
              "      <td>0.6890</td>\n",
              "      <td>4</td>\n",
              "    </tr>\n",
              "    <tr>\n",
              "      <th>3</th>\n",
              "      <td>0.000174</td>\n",
              "      <td>0.738866</td>\n",
              "      <td>0.079068</td>\n",
              "      <td>0.7980</td>\n",
              "      <td>0.0</td>\n",
              "      <td>0.801000</td>\n",
              "      <td>0.181818</td>\n",
              "      <td>0.1280</td>\n",
              "      <td>0.837833</td>\n",
              "      <td>1.0</td>\n",
              "      <td>0.207843</td>\n",
              "      <td>0.950025</td>\n",
              "      <td>0.043769</td>\n",
              "      <td>0.525640</td>\n",
              "      <td>0.0422</td>\n",
              "      <td>17</td>\n",
              "    </tr>\n",
              "    <tr>\n",
              "      <th>4</th>\n",
              "      <td>0.296185</td>\n",
              "      <td>0.712551</td>\n",
              "      <td>0.030951</td>\n",
              "      <td>0.7070</td>\n",
              "      <td>1.0</td>\n",
              "      <td>0.000246</td>\n",
              "      <td>0.909091</td>\n",
              "      <td>0.4020</td>\n",
              "      <td>0.856350</td>\n",
              "      <td>0.0</td>\n",
              "      <td>0.035294</td>\n",
              "      <td>0.950025</td>\n",
              "      <td>0.079094</td>\n",
              "      <td>0.501324</td>\n",
              "      <td>0.2990</td>\n",
              "      <td>2</td>\n",
              "    </tr>\n",
              "    <tr>\n",
              "      <th>5</th>\n",
              "      <td>1.000000</td>\n",
              "      <td>0.429150</td>\n",
              "      <td>0.037208</td>\n",
              "      <td>0.2450</td>\n",
              "      <td>0.0</td>\n",
              "      <td>0.799000</td>\n",
              "      <td>0.454545</td>\n",
              "      <td>0.2350</td>\n",
              "      <td>0.777431</td>\n",
              "      <td>1.0</td>\n",
              "      <td>0.105882</td>\n",
              "      <td>0.950025</td>\n",
              "      <td>0.040886</td>\n",
              "      <td>0.426559</td>\n",
              "      <td>0.4770</td>\n",
              "      <td>9</td>\n",
              "    </tr>\n",
              "    <tr>\n",
              "      <th>6</th>\n",
              "      <td>0.995984</td>\n",
              "      <td>0.791498</td>\n",
              "      <td>0.036566</td>\n",
              "      <td>0.0573</td>\n",
              "      <td>0.0</td>\n",
              "      <td>0.000002</td>\n",
              "      <td>0.454545</td>\n",
              "      <td>0.1760</td>\n",
              "      <td>0.763154</td>\n",
              "      <td>1.0</td>\n",
              "      <td>0.109804</td>\n",
              "      <td>0.950025</td>\n",
              "      <td>0.060968</td>\n",
              "      <td>0.351743</td>\n",
              "      <td>0.4870</td>\n",
              "      <td>5</td>\n",
              "    </tr>\n",
              "    <tr>\n",
              "      <th>7</th>\n",
              "      <td>1.000000</td>\n",
              "      <td>0.479757</td>\n",
              "      <td>0.034875</td>\n",
              "      <td>0.2390</td>\n",
              "      <td>0.0</td>\n",
              "      <td>0.186000</td>\n",
              "      <td>0.818182</td>\n",
              "      <td>0.1950</td>\n",
              "      <td>0.802963</td>\n",
              "      <td>1.0</td>\n",
              "      <td>0.054902</td>\n",
              "      <td>0.950025</td>\n",
              "      <td>0.029763</td>\n",
              "      <td>0.323539</td>\n",
              "      <td>0.3660</td>\n",
              "      <td>0</td>\n",
              "    </tr>\n",
              "    <tr>\n",
              "      <th>8</th>\n",
              "      <td>1.000000</td>\n",
              "      <td>0.474696</td>\n",
              "      <td>0.027507</td>\n",
              "      <td>0.2380</td>\n",
              "      <td>0.0</td>\n",
              "      <td>0.960000</td>\n",
              "      <td>0.727273</td>\n",
              "      <td>0.1490</td>\n",
              "      <td>0.672181</td>\n",
              "      <td>1.0</td>\n",
              "      <td>0.109804</td>\n",
              "      <td>0.950025</td>\n",
              "      <td>0.076313</td>\n",
              "      <td>0.534112</td>\n",
              "      <td>0.6210</td>\n",
              "      <td>0</td>\n",
              "    </tr>\n",
              "    <tr>\n",
              "      <th>9</th>\n",
              "      <td>0.006847</td>\n",
              "      <td>0.577935</td>\n",
              "      <td>0.089224</td>\n",
              "      <td>0.7530</td>\n",
              "      <td>0.0</td>\n",
              "      <td>0.873000</td>\n",
              "      <td>0.727273</td>\n",
              "      <td>0.0920</td>\n",
              "      <td>0.843178</td>\n",
              "      <td>1.0</td>\n",
              "      <td>0.109804</td>\n",
              "      <td>0.950025</td>\n",
              "      <td>0.045932</td>\n",
              "      <td>0.521517</td>\n",
              "      <td>0.1190</td>\n",
              "      <td>0</td>\n",
              "    </tr>\n",
              "  </tbody>\n",
              "</table>\n",
              "</div>"
            ],
            "text/plain": [
              "   acousticness  danceability  duration_ms  ...     tempo  valence  popularity\n",
              "0      0.994980      0.605263     0.031533  ...  0.615900   0.6340          12\n",
              "1      0.645582      0.862348     0.028136  ...  0.356823   0.9500           7\n",
              "2      0.996988      0.654858     0.030689  ...  0.400810   0.6890           4\n",
              "3      0.000174      0.738866     0.079068  ...  0.525640   0.0422          17\n",
              "4      0.296185      0.712551     0.030951  ...  0.501324   0.2990           2\n",
              "5      1.000000      0.429150     0.037208  ...  0.426559   0.4770           9\n",
              "6      0.995984      0.791498     0.036566  ...  0.351743   0.4870           5\n",
              "7      1.000000      0.479757     0.034875  ...  0.323539   0.3660           0\n",
              "8      1.000000      0.474696     0.027507  ...  0.534112   0.6210           0\n",
              "9      0.006847      0.577935     0.089224  ...  0.521517   0.1190           0\n",
              "\n",
              "[10 rows x 16 columns]"
            ]
          },
          "metadata": {
            "tags": []
          },
          "execution_count": 78
        }
      ]
    },
    {
      "cell_type": "markdown",
      "metadata": {
        "id": "1Onf5Tz9Q82N"
      },
      "source": [
        "### 6. Разделим data и data_score"
      ]
    },
    {
      "cell_type": "code",
      "metadata": {
        "id": "L7kWCfuPRf8T"
      },
      "source": [
        "data_score = data.iloc[:, -1]\n",
        "data = data.drop(data.columns[-1], axis=1)"
      ],
      "execution_count": 79,
      "outputs": []
    },
    {
      "cell_type": "markdown",
      "metadata": {
        "id": "9AhxrmhTTpre"
      },
      "source": [
        "### 7. Линейная регрессия"
      ]
    },
    {
      "cell_type": "markdown",
      "metadata": {
        "id": "yZQZqMVPiIHf"
      },
      "source": [
        "#### 7.1 Выделим training_data и target_values"
      ]
    },
    {
      "cell_type": "code",
      "metadata": {
        "colab": {
          "base_uri": "https://localhost:8080/"
        },
        "id": "RYTuD1mWiPdd",
        "outputId": "3449340c-07b4-4417-a499-b1ad42ea0178"
      },
      "source": [
        "X = data.to_numpy()\n",
        "y = data_score.to_numpy()\n",
        "y = np.hstack(y)\n",
        "\n",
        "print(y)"
      ],
      "execution_count": 80,
      "outputs": [
        {
          "output_type": "stream",
          "text": [
            "[12  7  4 ...  0 69  0]\n"
          ],
          "name": "stdout"
        }
      ]
    },
    {
      "cell_type": "markdown",
      "metadata": {
        "id": "QI_nBzpJTyrO"
      },
      "source": [
        "#### 7.2 Посчитаем RMSE до борьбы с выбросами"
      ]
    },
    {
      "cell_type": "code",
      "metadata": {
        "colab": {
          "base_uri": "https://localhost:8080/"
        },
        "id": "-YfUqEJNUDeW",
        "outputId": "7743b7cc-699c-46f3-877b-77abe208bb70"
      },
      "source": [
        "from sklearn import datasets\n",
        "from sklearn import linear_model\n",
        "from sklearn.model_selection import cross_val_score\n",
        "from sklearn.model_selection import train_test_split\n",
        "from sklearn.linear_model import LinearRegression\n",
        "from sklearn.metrics import mean_squared_error\n",
        "\n",
        "X_train, X_test, y_train, y_test = train_test_split(X, y, test_size = 0.3, random_state = 0)\n",
        "\n",
        "model = linear_model.LinearRegression()\n",
        "model.fit(X_train, y_train)\n",
        "\n",
        "RMSE = mean_squared_error(y_test, model.predict(X_test), squared=False)\n",
        "print(\"RMSE =\", RMSE)\n",
        "print(\"cross_val_score=\", cross_val_score(model, X, y))"
      ],
      "execution_count": 81,
      "outputs": [
        {
          "output_type": "stream",
          "text": [
            "RMSE = 17.350405962761354\n",
            "cross_val_score= [0.25693723 0.47028577 0.38242499 0.28931536 0.09907891]\n"
          ],
          "name": "stdout"
        }
      ]
    },
    {
      "cell_type": "markdown",
      "metadata": {
        "id": "Vx2JLN2-UV4G"
      },
      "source": [
        "#### 7.3 Посмотрим на ошибку для каждого трека"
      ]
    },
    {
      "cell_type": "code",
      "metadata": {
        "colab": {
          "base_uri": "https://localhost:8080/",
          "height": 444
        },
        "id": "7zB2Lco2UcVP",
        "outputId": "2ea1c141-8da7-46be-c3c4-e422311d389b"
      },
      "source": [
        "import matplotlib.pyplot as plt\n",
        "\n",
        "%matplotlib inline\n",
        "\n",
        "tracks = np.arange(len(data))\n",
        "rmse = []\n",
        "\n",
        "model = linear_model.LinearRegression()\n",
        "model.fit(X, y)\n",
        "\n",
        "for i in range(len(data)):\n",
        "    \n",
        "    X_i = data[i:i+1].to_numpy()\n",
        "    y_i = [y[i]]\n",
        "    RMSE = mean_squared_error(y_i, model.predict(X_i), squared=False)\n",
        "    rmse.append(RMSE)\n",
        "\n",
        "#\n",
        "plt.figure(figsize = (16, 8))\n",
        "plt.plot(tracks, rmse, label = u\"\")\n",
        "plt.xlabel(u\"Tracks\")\n",
        "plt.ylabel(u\"RMSE\")\n",
        "plt.grid()\n"
      ],
      "execution_count": 82,
      "outputs": [
        {
          "output_type": "display_data",
          "data": {
            "image/png": "[encoded data removed]",
            "text/plain": [
              "<Figure size 1152x576 with 1 Axes>"
            ]
          },
          "metadata": {
            "tags": [],
            "needs_background": "light"
          }
        }
      ]
    },
    {
      "cell_type": "markdown",
      "metadata": {
        "id": "6e1LP1NIcliT"
      },
      "source": [
        "#### 7.4 Удалим песни с большим отклонением (удалим примерно 3%)"
      ]
    },
    {
      "cell_type": "code",
      "metadata": {
        "id": "rH-YqlYqctw_"
      },
      "source": [
        "percentile = 97\n",
        "\n",
        "crazy_threshold = np.percentile(rmse, q = percentile)\n",
        "\n",
        "to_delete = []\n",
        "\n",
        "model = linear_model.LinearRegression()\n",
        "model.fit(X, y)\n",
        "\n",
        "for i in range(len(data)):\n",
        "    X_i = data[i:i+1].to_numpy()\n",
        "    y_i = [y[i]]\n",
        "    RMSE = mean_squared_error(y_i, model.predict(X_i), squared=False)\n",
        "    if RMSE > crazy_threshold:\n",
        "        to_delete.append(data.index[i])\n",
        "        \n",
        "\n",
        "new_data = data\n",
        "new_data = new_data.drop(to_delete)\n",
        "y = np.delete(y, to_delete, axis = 0)\n",
        "X = new_data.to_numpy()"
      ],
      "execution_count": 83,
      "outputs": []
    },
    {
      "cell_type": "markdown",
      "metadata": {
        "id": "SyngOnYWdhCj"
      },
      "source": [
        "#### 7.5 Финальное предсказание линейной регрессии"
      ]
    },
    {
      "cell_type": "code",
      "metadata": {
        "colab": {
          "base_uri": "https://localhost:8080/"
        },
        "id": "ghU9992ld8VA",
        "outputId": "6315f86c-1608-46f7-a81c-87807640de8b"
      },
      "source": [
        "from sklearn.preprocessing import MinMaxScaler\n",
        "\n",
        "scaler = MinMaxScaler(feature_range=(0, 1))\n",
        "scaler = scaler.fit(X)\n",
        "X = scaler.transform(X)\n",
        "\n",
        "X_train, X_test, y_train, y_test = train_test_split(X, y, test_size = 0.3, random_state = 42)\n",
        "\n",
        "model = linear_model.LinearRegression()\n",
        "model.fit(X_train, y_train)\n",
        "\n",
        "RMSE = mean_squared_error(y_test, model.predict(X_test), squared=False)\n",
        "\n",
        "print(\"RMSE = \", RMSE)\n",
        "print(\"cross_val_score =\", cross_val_score(model, X, y))"
      ],
      "execution_count": 84,
      "outputs": [
        {
          "output_type": "stream",
          "text": [
            "RMSE =  15.640354282545404\n",
            "cross_val_score = [0.35497233 0.53524923 0.49600641 0.4387669  0.28976229]\n"
          ],
          "name": "stdout"
        }
      ]
    },
    {
      "cell_type": "markdown",
      "metadata": {
        "id": "h6lifpcdeQEV"
      },
      "source": [
        "### 8. Ramdom Forest Regresion"
      ]
    },
    {
      "cell_type": "markdown",
      "metadata": {
        "id": "D93E5GePgdFI"
      },
      "source": [
        "#### 8.1. Выделим training_data и target_values"
      ]
    },
    {
      "cell_type": "code",
      "metadata": {
        "colab": {
          "base_uri": "https://localhost:8080/"
        },
        "id": "PAZJ-jVjeqM6",
        "outputId": "546a3ae0-7ee6-4def-ae8b-57870145028a"
      },
      "source": [
        "X = data.to_numpy()\n",
        "y = data_score.to_numpy()\n",
        "y = np.hstack(y)\n",
        "\n",
        "print(y)"
      ],
      "execution_count": 85,
      "outputs": [
        {
          "output_type": "stream",
          "text": [
            "[12  7  4 ...  0 69  0]\n"
          ],
          "name": "stdout"
        }
      ]
    },
    {
      "cell_type": "markdown",
      "metadata": {
        "id": "mB4FDItAg7Ye"
      },
      "source": [
        "#### 8.2 Регрессия"
      ]
    },
    {
      "cell_type": "code",
      "metadata": {
        "colab": {
          "base_uri": "https://localhost:8080/"
        },
        "id": "uYBO4EPlhFOg",
        "outputId": "98579312-6b30-453c-d589-d12bc0361e20"
      },
      "source": [
        "from sklearn.ensemble import RandomForestRegressor\n",
        "\n",
        "X_train, X_test, y_train, y_test = train_test_split(X, y, test_size = 0.3, random_state = 42)\n",
        "\n",
        "model = RandomForestRegressor(max_features = 'sqrt', bootstrap = False, n_jobs = -1)\n",
        "model.fit(X_train, y_train)\n",
        "\n",
        "RMSE = mean_squared_error(y_test, model.predict(X_test), squared=False)\n",
        "\n",
        "print(\"RMSE = \", RMSE)"
      ],
      "execution_count": 103,
      "outputs": [
        {
          "output_type": "stream",
          "text": [
            "RMSE =  12.196360414054435\n"
          ],
          "name": "stdout"
        }
      ]
    },
    {
      "cell_type": "markdown",
      "metadata": {
        "id": "Hgnr9LWAFDoG"
      },
      "source": [
        "####8.3 Построим график числа деревьев"
      ]
    },
    {
      "cell_type": "code",
      "metadata": {
        "colab": {
          "base_uri": "https://localhost:8080/"
        },
        "id": "WMLcOQcnFCeW",
        "outputId": "4d16d07c-322f-4c6f-d287-f2b561b66250"
      },
      "source": [
        "stepCount = 300\n",
        "cur = []\n",
        "\n",
        "for i in range(100, stepCount + 1, 10):\n",
        "  model = RandomForestRegressor(n_estimators=i, max_features = 'sqrt', bootstrap = False, n_jobs = -1)\n",
        "  model.fit(X_train, y_train)\n",
        "  RMSE = mean_squared_error(y_test, model.predict(X_test), squared=False)\n",
        "  print(i, \" : \", RMSE)\n",
        "  cur.append((i, RMSE))"
      ],
      "execution_count": 105,
      "outputs": [
        {
          "output_type": "stream",
          "text": [
            "100  :  12.191866896166138\n",
            "110  :  12.181003555690653\n",
            "120  :  12.196605666741274\n",
            "130  :  12.17214629747935\n",
            "140  :  12.168145205241688\n",
            "150  :  12.174252046555665\n",
            "160  :  12.16123067216404\n",
            "170  :  12.144178143837273\n",
            "180  :  12.170173792544436\n",
            "190  :  12.139526105623224\n",
            "200  :  12.164666599875765\n",
            "210  :  12.166253183292403\n",
            "220  :  12.141087699967791\n",
            "230  :  12.15092975729601\n",
            "240  :  12.146736023408783\n",
            "250  :  12.159720831305654\n",
            "260  :  12.148109077753872\n",
            "270  :  12.146026592589743\n",
            "280  :  12.144468489352068\n",
            "290  :  12.154853993659673\n",
            "300  :  12.138672376263422\n"
          ],
          "name": "stdout"
        }
      ]
    },
    {
      "cell_type": "code",
      "metadata": {
        "colab": {
          "base_uri": "https://localhost:8080/",
          "height": 438
        },
        "id": "YfLeebCFN4nz",
        "outputId": "b92d5a7c-0313-4705-882c-164927d7e299"
      },
      "source": [
        "cur0 = []\n",
        "cur1 = []\n",
        "for x, y in cur:\n",
        "  cur0.append(y)\n",
        "  cur1.append(x)\n",
        "plt.figure(figsize=[16,8])\n",
        "plt.plot(cur1, cur0)\n",
        "plt.xlabel(u\"n_estimators\")\n",
        "plt.ylabel(u\"RMSE\")\n",
        "plt.grid()\n",
        "plt.show()"
      ],
      "execution_count": 113,
      "outputs": [
        {
          "output_type": "display_data",
          "data": {
            "image/png": "[encoded data removed]",
            "text/plain": [
              "<Figure size 1152x576 with 1 Axes>"
            ]
          },
          "metadata": {
            "tags": [],
            "needs_background": "light"
          }
        }
      ]
    },
    {
      "cell_type": "markdown",
      "metadata": {
        "id": "qhxBqd_vi_Tm"
      },
      "source": [
        "Значение, при котором наименьшее RMSE, достигается при n_estimators = 300"
      ]
    },
    {
      "cell_type": "markdown",
      "metadata": {
        "id": "4u48nArKjJbL"
      },
      "source": [
        "####8.4 Построим график глубины дерева"
      ]
    },
    {
      "cell_type": "code",
      "metadata": {
        "colab": {
          "base_uri": "https://localhost:8080/"
        },
        "id": "Pu4-E_ogjYDK",
        "outputId": "4ea090ac-182d-4343-802e-83a7784de04f"
      },
      "source": [
        "stepCount = 30\n",
        "cur = []\n",
        "\n",
        "for i in range(1, stepCount + 1, 1):\n",
        "  model = RandomForestRegressor(max_depth=i, max_features = 'sqrt', bootstrap = False, n_jobs = -1)\n",
        "  model.fit(X_train, y_train)\n",
        "  RMSE = mean_squared_error(y_test, model.predict(X_test), squared=False)\n",
        "  print(i, \" : \", RMSE)\n",
        "  cur.append((i, RMSE))"
      ],
      "execution_count": 115,
      "outputs": [
        {
          "output_type": "stream",
          "text": [
            "1  :  19.01814106886445\n",
            "2  :  17.758814651490418\n",
            "3  :  16.639234712661725\n",
            "4  :  16.001339447796045\n",
            "5  :  15.415667286286777\n",
            "6  :  14.949002009813864\n",
            "7  :  14.624998956623754\n",
            "8  :  14.239818396501821\n",
            "9  :  13.839547841307324\n",
            "10  :  13.578903354293285\n",
            "11  :  13.345802936241745\n",
            "12  :  13.126293942224281\n",
            "13  :  12.971600627003822\n",
            "14  :  12.78798007618724\n",
            "15  :  12.627629208167843\n",
            "16  :  12.508826718203757\n",
            "17  :  12.43752821261951\n",
            "18  :  12.330954101271335\n",
            "19  :  12.279581829853251\n",
            "20  :  12.23014053933555\n",
            "21  :  12.183038595697194\n",
            "22  :  12.194282117748758\n",
            "23  :  12.133065916660497\n",
            "24  :  12.172848555985368\n",
            "25  :  12.153864279862697\n",
            "26  :  12.17262457955955\n",
            "27  :  12.160517303555304\n",
            "28  :  12.185542395091474\n",
            "29  :  12.176420095190451\n",
            "30  :  12.172312398513101\n"
          ],
          "name": "stdout"
        }
      ]
    },
    {
      "cell_type": "code",
      "metadata": {
        "colab": {
          "base_uri": "https://localhost:8080/",
          "height": 445
        },
        "id": "Ajzgm975nH4i",
        "outputId": "21fc79b3-fc21-4cbe-8ac5-eebbb0b80f0a"
      },
      "source": [
        "cur0 = []\n",
        "cur1 = []\n",
        "for x, y in cur:\n",
        "  cur0.append(y)\n",
        "  cur1.append(x)\n",
        "plt.figure(figsize=[16,8])\n",
        "plt.plot(cur1, cur0)\n",
        "plt.xlabel(u\"max_depth\")\n",
        "plt.ylabel(u\"RMSE\")\n",
        "plt.grid()\n",
        "plt.show()"
      ],
      "execution_count": 117,
      "outputs": [
        {
          "output_type": "display_data",
          "data": {
            "image/png": "[encoded data removed]",
            "text/plain": [
              "<Figure size 1152x576 with 1 Axes>"
            ]
          },
          "metadata": {
            "tags": [],
            "needs_background": "light"
          }
        }
      ]
    },
    {
      "cell_type": "markdown",
      "metadata": {
        "id": "sTB7MAWonNCp"
      },
      "source": [
        "Значение, при котором наименьшее RMSE, достигается при max_depth = 23"
      ]
    },
    {
      "cell_type": "markdown",
      "metadata": {
        "id": "X0vMCmcLnREI"
      },
      "source": [
        "#### 8.5 Посчитаем итоговую ошибку"
      ]
    },
    {
      "cell_type": "code",
      "metadata": {
        "colab": {
          "base_uri": "https://localhost:8080/"
        },
        "id": "b5wE-_0dtEvX",
        "outputId": "2a850196-7de6-4922-f26c-a62a05ce0493"
      },
      "source": [
        "y = data_score.to_numpy()\n",
        "y = np.hstack(y)\n",
        "\n",
        "print(y)"
      ],
      "execution_count": 125,
      "outputs": [
        {
          "output_type": "stream",
          "text": [
            "[12  7  4 ...  0 69  0]\n"
          ],
          "name": "stdout"
        }
      ]
    },
    {
      "cell_type": "code",
      "metadata": {
        "colab": {
          "base_uri": "https://localhost:8080/"
        },
        "id": "aC1LB5s0nbIn",
        "outputId": "0b73de39-055a-4001-887f-d0ab1250882d"
      },
      "source": [
        "from sklearn.ensemble import RandomForestRegressor\n",
        "\n",
        "X_train, X_test, y_train, y_test = train_test_split(X, y, test_size = 0.3, random_state = 42)\n",
        "\n",
        "model = RandomForestRegressor(n_estimators = 300, max_depth = 23, max_features = 'sqrt', bootstrap = False, n_jobs = -1)\n",
        "model.fit(X_train, y_train)\n",
        "\n",
        "RMSE = mean_squared_error(y_test, model.predict(X_test), squared=False)\n",
        "\n",
        "print(\"RMSE = \", RMSE)"
      ],
      "execution_count": 127,
      "outputs": [
        {
          "output_type": "stream",
          "text": [
            "RMSE =  12.118864410535997\n"
          ],
          "name": "stdout"
        }
      ]
    }
  ]
}